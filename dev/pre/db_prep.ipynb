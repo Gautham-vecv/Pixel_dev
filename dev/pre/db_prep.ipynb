{
 "cells": [
  {
   "cell_type": "code",
   "execution_count": 1,
   "metadata": {},
   "outputs": [],
   "source": [
    "import pandas as pd \n",
    "pd.set_option('display.max_columns',None)"
   ]
  },
  {
   "cell_type": "code",
   "execution_count": 3,
   "metadata": {},
   "outputs": [],
   "source": [
    "Chassis_master = \"/Users/gauthambalraj/Dev/VECV/Pixel/data/Chassis_Detail_Master.csv\"\n",
    "chassis_df = pd.read_csv(Chassis_master)\n",
    "chassis_df = chassis_df[['deviceid','chasisno','vehicleMode','Emission','vehicleDivisionDescription','customerName','registrationNo','fueltype','Engine ']]\n",
    "chassis_df.rename(columns={\n",
    "    'Engine ':\"Engine\"\n",
    "},    inplace=True)\n",
    "chassis_df.rename(columns={\n",
    "    'Engine ':\"Engine\"\n",
    "},    inplace=True)"
   ]
  },
  {
   "cell_type": "markdown",
   "metadata": {},
   "source": [
    "### `Loading data in mysql DB`"
   ]
  },
  {
   "cell_type": "code",
   "execution_count": 2,
   "metadata": {},
   "outputs": [],
   "source": [
    "data = pd.read_csv(\"/Users/gauthambalraj/Dev/VECV/Pixel/data/vehicle_data.csv\")"
   ]
  },
  {
   "cell_type": "code",
   "execution_count": 3,
   "metadata": {},
   "outputs": [],
   "source": [
    "data.dropna(inplace=True)"
   ]
  },
  {
   "cell_type": "code",
   "execution_count": null,
   "metadata": {},
   "outputs": [],
   "source": [
    "import pandas as pd\n",
    "\n",
    "# Step 1: Get value counts in ascending order\n",
    "counts = data['customerName'].value_counts(ascending=True)\n",
    "\n",
    "# Step 2: Create mapping from customerName to user1, user2, ...\n",
    "user_ids = {name: f\"user{i+1}\" for i, name in enumerate(counts.index)}\n",
    "\n",
    "# Step 3: Assign mapped IDs back to the DataFrame\n",
    "data['customerId'] = data['customerName'].map(user_ids)\n",
    "\n",
    "# Optional: Check result\n"
   ]
  },
  {
   "cell_type": "code",
   "execution_count": null,
   "metadata": {},
   "outputs": [],
   "source": [
    "print(data['customerId'].value_counts(ascending=True).head())"
   ]
  },
  {
   "cell_type": "code",
   "execution_count": null,
   "metadata": {},
   "outputs": [],
   "source": [
    "data.to_csv(\"/Users/gauthambalraj/Dev/VECV/Pixel/data/vehicle_data.csv\",index=False)"
   ]
  },
  {
   "cell_type": "code",
   "execution_count": null,
   "metadata": {},
   "outputs": [],
   "source": []
  },
  {
   "cell_type": "code",
   "execution_count": null,
   "metadata": {},
   "outputs": [],
   "source": [
    "import pandas as pd\n",
    "from sqlalchemy import create_engine\n",
    "from urllib.parse import quote_plus\n",
    "\n",
    "user     = \"root\"\n",
    "password = \"Gautham@20010\"\n",
    "host     = \"localhost\"\n",
    "port     = 3306\n",
    "database = \"vehicle_db\"\n",
    "csv_path = \"/Users/gauthambalraj/Dev/VECV/Pixel/data/vehicle_data.csv\"\n",
    "\n",
    "# URL-encode the password\n",
    "pwd_enc = quote_plus(password)\n",
    "\n",
    "# Build the engine URL\n",
    "engine = create_engine(\n",
    "    f\"mysql+mysqlconnector://{user}:{pwd_enc}@{host}:{port}/{database}\"\n",
    ")\n",
    "\n",
    "# Read & upload\n",
    "data.to_sql(\"vehicle_data\", engine, if_exists=\"append\", index=False)\n",
    "print(\"Data uploaded successfully.\")"
   ]
  },
  {
   "cell_type": "code",
   "execution_count": 13,
   "metadata": {},
   "outputs": [
    {
     "name": "stdout",
     "output_type": "stream",
     "text": [
      "('9889039112123450', 'MC2A5ERT0LA460208', '10.75', 'BSIV', 'BUS', 'THE CORRESPONDENT ST MARY S MATRICU', 'TN67BK3184', 'DSL', 'E483', 'user1')\n",
      "('860103062380580', 'MC2ABRRF0KG018074', 'PRO 5019', 'BSIV', 'HD', 'INSTANT TRANSPORT SOLUTION PVT LTD', 'NL01AD9244', 'DSL', 'E694', 'user680')\n",
      "('861557068933248', 'MC2ACLRC0KE017234', 'PRO 5028', 'BSIV', 'HD', 'PREM CARGO MOVERS PRIVATE LIMITED', 'RJ29GA7454', 'DSL', 'E694', 'user880')\n",
      "('861557068939195', 'MC2ACLRC0KE017658', 'PRO 5028', 'BSIV', 'HD', 'PREM CARGO MOVERS PRIVATE LIMITED', 'RJ29GA7486', 'DSL', 'E694', 'user880')\n",
      "('861557068890869', 'MC2B7ERC0HB364674', 'PRO 1059XP', 'BSIV', 'LMD', 'VE COMMERCIAL VEHICLE LTD', 'MP09GH0763', 'DSL', 'E483', 'user1155')\n"
     ]
    }
   ],
   "source": [
    "import mysql.connector\n",
    "\n",
    "conn = mysql.connector.connect(\n",
    "    host=\"localhost\",\n",
    "    user=\"root\",\n",
    "    password=\"Gautham@20010\",\n",
    "    database=\"vehicle_db\"\n",
    ")\n",
    "cursor = conn.cursor()\n",
    "cursor.execute(\"SELECT * FROM vehicle_data LIMIT 5;\")\n",
    "for row in cursor:\n",
    "    print(row)\n",
    "conn.close()"
   ]
  },
  {
   "cell_type": "code",
   "execution_count": null,
   "metadata": {},
   "outputs": [],
   "source": []
  },
  {
   "cell_type": "markdown",
   "metadata": {},
   "source": [
    "### `JC data Prep`"
   ]
  },
  {
   "cell_type": "code",
   "execution_count": 2,
   "metadata": {},
   "outputs": [],
   "source": [
    "import pandas as pd \n",
    "pd.set_option('display.max_columns',None)\n",
    "\n",
    "jc_data = pd.read_excel(\"/Users/gauthambalraj/Dev/VECV/Pixel/data/job_card_sample-2.xlsx\")\n",
    "\n"
   ]
  },
  {
   "cell_type": "code",
   "execution_count": 5,
   "metadata": {},
   "outputs": [
    {
     "data": {
      "text/plain": [
       "Index(['Job Card Number', 'Gate in Date T1', 'Order Type',\n",
       "       'Order Type Description', 'Order quantity', 'Order unit',\n",
       "       'Vehicle Chassis Number', 'vehicleMode', 'EngineNo', 'Emission',\n",
       "       'Engine ', 'Fuel', 'EngineFuel', 'OBD', 'Vehicle Material',\n",
       "       'Fert Description', 'Customer number', 'Calendar Year/Quarter',\n",
       "       'Vehicle INS Date', 'Employee', 'DealerName', 'Plant', 'Failure Date',\n",
       "       'Engine Number', 'Calendar Day', 'Jobs', 'Jobs Description',\n",
       "       'Customer Voice', 'Action Taken', 'Observation', 'Causal Code',\n",
       "       'Casual Description', 'Item Type', 'Item Material',\n",
       "       'Item Matrial Desription', 'Region Group', 'Culprit Code',\n",
       "       'Culprit Description', 'Type of the warranty claim',\n",
       "       'Claim Type Description', 'Place Name', 'Clean Customer Voice', 'label',\n",
       "       'Vital Code', 'Description of Process. Status', 'overall_similar_dbm',\n",
       "       'chassis_level_similar_dbm', 'model_level_similar_dbm',\n",
       "       'region_group_similar_dbm', 'Cluster', 'Cluster_Name',\n",
       "       'llm_primary_issue', 'llm_other_issue', 'llm_key_observation',\n",
       "       'llm_root_cause', 'llm_affected_systems', 'llm_action_status',\n",
       "       'llm_action_type', 'llm_work_done', 'llm_severity_level',\n",
       "       'llm_service_summary', 'llm_additional_info', 'llm_repair_details',\n",
       "       'total_dtc_occurrences', 'unique_dtc_codes', 'num_unique_dtcs',\n",
       "       'most_frequent_dtc', 'most_frequent_dtc_count',\n",
       "       'most_frequent_dtc_aggregate', 'last_occurred_dtc',\n",
       "       'top_3_frequent_dtcs', 'top_3_frequent_dtcs_with_aggregate',\n",
       "       'major_dtc_aggregate', 'major_dtc_aggregate_count',\n",
       "       'aggregate_distribution'],\n",
       "      dtype='object')"
      ]
     },
     "execution_count": 5,
     "metadata": {},
     "output_type": "execute_result"
    }
   ],
   "source": [
    "jc_data.columns"
   ]
  },
  {
   "cell_type": "code",
   "execution_count": 14,
   "metadata": {},
   "outputs": [
    {
     "name": "stdout",
     "output_type": "stream",
     "text": [
      "<class 'pandas.core.frame.DataFrame'>\n",
      "RangeIndex: 13 entries, 0 to 12\n",
      "Data columns (total 75 columns):\n",
      " #   Column                              Non-Null Count  Dtype         \n",
      "---  ------                              --------------  -----         \n",
      " 0   job_card_number                     13 non-null     int64         \n",
      " 1   gate_in_date_t1                     13 non-null     datetime64[ns]\n",
      " 2   order_type                          13 non-null     object        \n",
      " 3   order_type_description              13 non-null     object        \n",
      " 4   order_quantity                      13 non-null     int64         \n",
      " 5   order_unit                          13 non-null     object        \n",
      " 6   vehicle_chassis_number              13 non-null     object        \n",
      " 7   vehiclemode                         13 non-null     object        \n",
      " 8   engineno                            13 non-null     object        \n",
      " 9   emission                            13 non-null     object        \n",
      " 10  engine                              13 non-null     object        \n",
      " 11  fuel                                13 non-null     object        \n",
      " 12  enginefuel                          13 non-null     object        \n",
      " 13  obd                                 13 non-null     int64         \n",
      " 14  vehicle_material                    13 non-null     int64         \n",
      " 15  fert_description                    13 non-null     object        \n",
      " 16  customer_number                     13 non-null     int64         \n",
      " 17  calendar_year/quarter               13 non-null     int64         \n",
      " 18  vehicle_ins_date                    13 non-null     datetime64[ns]\n",
      " 19  employee                            13 non-null     int64         \n",
      " 20  dealername                          13 non-null     object        \n",
      " 21  plant                               13 non-null     object        \n",
      " 22  failure_date                        13 non-null     datetime64[ns]\n",
      " 23  engine_number                       9 non-null      object        \n",
      " 24  calendar_day                        13 non-null     datetime64[ns]\n",
      " 25  jobs                                13 non-null     int64         \n",
      " 26  jobs_description                    13 non-null     object        \n",
      " 27  customer_voice                      13 non-null     object        \n",
      " 28  action_taken                        13 non-null     object        \n",
      " 29  observation                         13 non-null     object        \n",
      " 30  causal_code                         13 non-null     object        \n",
      " 31  casual_description                  13 non-null     object        \n",
      " 32  item_type                           13 non-null     object        \n",
      " 33  item_material                       13 non-null     object        \n",
      " 34  item_matrial_desription             13 non-null     object        \n",
      " 35  region_group                        13 non-null     object        \n",
      " 36  culprit_code                        13 non-null     object        \n",
      " 37  culprit_description                 13 non-null     object        \n",
      " 38  type_of_the_warranty_claim          5 non-null      object        \n",
      " 39  claim_type_description              5 non-null      object        \n",
      " 40  place_name                          13 non-null     object        \n",
      " 41  clean_customer_voice                13 non-null     object        \n",
      " 42  label                               13 non-null     object        \n",
      " 43  vital_code                          12 non-null     float64       \n",
      " 44  description_of_process_status       5 non-null      object        \n",
      " 45  overall_similar_dbm                 13 non-null     object        \n",
      " 46  chassis_level_similar_dbm           13 non-null     object        \n",
      " 47  model_level_similar_dbm             13 non-null     object        \n",
      " 48  region_group_similar_dbm            13 non-null     object        \n",
      " 49  cluster                             13 non-null     int64         \n",
      " 50  cluster_name                        13 non-null     object        \n",
      " 51  llm_primary_issue                   13 non-null     object        \n",
      " 52  llm_other_issue                     1 non-null      object        \n",
      " 53  llm_key_observation                 13 non-null     object        \n",
      " 54  llm_root_cause                      13 non-null     object        \n",
      " 55  llm_affected_systems                13 non-null     object        \n",
      " 56  llm_action_status                   13 non-null     bool          \n",
      " 57  llm_action_type                     13 non-null     object        \n",
      " 58  llm_work_done                       13 non-null     object        \n",
      " 59  llm_severity_level                  13 non-null     int64         \n",
      " 60  llm_service_summary                 13 non-null     object        \n",
      " 61  llm_additional_info                 0 non-null      float64       \n",
      " 62  llm_repair_details                  0 non-null      float64       \n",
      " 63  total_dtc_occurrences               13 non-null     int64         \n",
      " 64  unique_dtc_codes                    13 non-null     object        \n",
      " 65  num_unique_dtcs                     13 non-null     int64         \n",
      " 66  most_frequent_dtc                   13 non-null     object        \n",
      " 67  most_frequent_dtc_count             13 non-null     int64         \n",
      " 68  most_frequent_dtc_aggregate         13 non-null     object        \n",
      " 69  last_occurred_dtc                   13 non-null     object        \n",
      " 70  top_3_frequent_dtcs                 13 non-null     object        \n",
      " 71  top_3_frequent_dtcs_with_aggregate  13 non-null     object        \n",
      " 72  major_dtc_aggregate                 13 non-null     object        \n",
      " 73  major_dtc_aggregate_count           13 non-null     int64         \n",
      " 74  aggregate_distribution              13 non-null     object        \n",
      "dtypes: bool(1), datetime64[ns](4), float64(3), int64(14), object(53)\n",
      "memory usage: 7.7+ KB\n"
     ]
    }
   ],
   "source": [
    "jc_data.info()"
   ]
  },
  {
   "cell_type": "code",
   "execution_count": 13,
   "metadata": {},
   "outputs": [],
   "source": [
    "jc_data.columns = jc_data.columns.str.lower()"
   ]
  },
  {
   "cell_type": "code",
   "execution_count": 16,
   "metadata": {},
   "outputs": [
    {
     "name": "stdout",
     "output_type": "stream",
     "text": [
      "New table 'jc_data' created and data inserted.\n"
     ]
    }
   ],
   "source": [
    "import pandas as pd\n",
    "from sqlalchemy import create_engine\n",
    "from urllib.parse import quote_plus\n",
    "\n",
    "# Your MySQL connection details\n",
    "user = \"root\"\n",
    "password = \"Gautham@20010\"\n",
    "host = \"localhost\"\n",
    "port = 3306\n",
    "database = \"vehicle_db\"\n",
    "pwd_enc = quote_plus(password)\n",
    "\n",
    "# Your DataFrame (assuming it’s already prepared)\n",
    "# data = pd.read_csv(\"your_file.csv\")  # or however you have the DataFrame\n",
    "\n",
    "# Create SQLAlchemy engine\n",
    "engine = create_engine(f\"mysql+mysqlconnector://{user}:{pwd_enc}@{host}:{port}/{database}\")\n",
    "\n",
    "# Upload DataFrame to a new table (replace 'vehicle_diagnostics' with your desired table name)\n",
    "jc_data.to_sql(name=\"jc_data\", con=engine, if_exists=\"replace\", index=False)\n",
    "\n",
    "print(\"New table 'jc_data' created and data inserted.\")"
   ]
  },
  {
   "cell_type": "code",
   "execution_count": 14,
   "metadata": {},
   "outputs": [
    {
     "data": {
      "text/plain": [
       "array(['VEDX'], dtype=object)"
      ]
     },
     "execution_count": 14,
     "metadata": {},
     "output_type": "execute_result"
    }
   ],
   "source": [
    "jc_data['Engine '].unique()"
   ]
  },
  {
   "cell_type": "code",
   "execution_count": 7,
   "metadata": {},
   "outputs": [
    {
     "name": "stdout",
     "output_type": "stream",
     "text": [
      "('job_card_number', 'bigint', 'YES', '', None, '')\n",
      "('gate_in_date_t1', 'datetime', 'YES', '', None, '')\n",
      "('order_type', 'text', 'YES', '', None, '')\n",
      "('order_type_description', 'text', 'YES', '', None, '')\n",
      "('order_quantity', 'bigint', 'YES', '', None, '')\n",
      "('order_unit', 'text', 'YES', '', None, '')\n",
      "('vehicle_chassis_number', 'text', 'YES', '', None, '')\n",
      "('vehiclemode', 'text', 'YES', '', None, '')\n",
      "('engineno', 'text', 'YES', '', None, '')\n",
      "('emission', 'text', 'YES', '', None, '')\n",
      "('engine', 'text', 'YES', '', None, '')\n",
      "('fuel', 'text', 'YES', '', None, '')\n",
      "('enginefuel', 'text', 'YES', '', None, '')\n",
      "('obd', 'bigint', 'YES', '', None, '')\n",
      "('vehicle_material', 'bigint', 'YES', '', None, '')\n",
      "('fert_description', 'text', 'YES', '', None, '')\n",
      "('customer_number', 'bigint', 'YES', '', None, '')\n",
      "('calendar_year/quarter', 'bigint', 'YES', '', None, '')\n",
      "('vehicle_ins_date', 'datetime', 'YES', '', None, '')\n",
      "('employee', 'bigint', 'YES', '', None, '')\n",
      "('dealername', 'text', 'YES', '', None, '')\n",
      "('plant', 'text', 'YES', '', None, '')\n",
      "('failure_date', 'datetime', 'YES', '', None, '')\n",
      "('engine_number', 'text', 'YES', '', None, '')\n",
      "('calendar_day', 'datetime', 'YES', '', None, '')\n",
      "('jobs', 'bigint', 'YES', '', None, '')\n",
      "('jobs_description', 'text', 'YES', '', None, '')\n",
      "('customer_voice', 'text', 'YES', '', None, '')\n",
      "('action_taken', 'text', 'YES', '', None, '')\n",
      "('observation', 'text', 'YES', '', None, '')\n",
      "('causal_code', 'text', 'YES', '', None, '')\n",
      "('casual_description', 'text', 'YES', '', None, '')\n",
      "('item_type', 'text', 'YES', '', None, '')\n",
      "('item_material', 'text', 'YES', '', None, '')\n",
      "('item_matrial_desription', 'text', 'YES', '', None, '')\n",
      "('region_group', 'text', 'YES', '', None, '')\n",
      "('culprit_code', 'text', 'YES', '', None, '')\n",
      "('culprit_description', 'text', 'YES', '', None, '')\n",
      "('type_of_the_warranty_claim', 'text', 'YES', '', None, '')\n",
      "('claim_type_description', 'text', 'YES', '', None, '')\n",
      "('place_name', 'text', 'YES', '', None, '')\n",
      "('clean_customer_voice', 'text', 'YES', '', None, '')\n",
      "('label', 'text', 'YES', '', None, '')\n",
      "('vital_code', 'double', 'YES', '', None, '')\n",
      "('description_of_process_status', 'text', 'YES', '', None, '')\n",
      "('overall_similar_dbm', 'text', 'YES', '', None, '')\n",
      "('chassis_level_similar_dbm', 'text', 'YES', '', None, '')\n",
      "('model_level_similar_dbm', 'text', 'YES', '', None, '')\n",
      "('region_group_similar_dbm', 'text', 'YES', '', None, '')\n",
      "('cluster', 'bigint', 'YES', '', None, '')\n",
      "('cluster_name', 'text', 'YES', '', None, '')\n",
      "('llm_primary_issue', 'text', 'YES', '', None, '')\n",
      "('llm_other_issue', 'text', 'YES', '', None, '')\n",
      "('llm_key_observation', 'text', 'YES', '', None, '')\n",
      "('llm_root_cause', 'text', 'YES', '', None, '')\n",
      "('llm_affected_systems', 'text', 'YES', '', None, '')\n",
      "('llm_action_status', 'tinyint(1)', 'YES', '', None, '')\n",
      "('llm_action_type', 'text', 'YES', '', None, '')\n",
      "('llm_work_done', 'text', 'YES', '', None, '')\n",
      "('llm_severity_level', 'bigint', 'YES', '', None, '')\n",
      "('llm_service_summary', 'text', 'YES', '', None, '')\n",
      "('llm_additional_info', 'double', 'YES', '', None, '')\n",
      "('llm_repair_details', 'double', 'YES', '', None, '')\n",
      "('total_dtc_occurrences', 'bigint', 'YES', '', None, '')\n",
      "('unique_dtc_codes', 'text', 'YES', '', None, '')\n",
      "('num_unique_dtcs', 'bigint', 'YES', '', None, '')\n",
      "('most_frequent_dtc', 'text', 'YES', '', None, '')\n",
      "('most_frequent_dtc_count', 'bigint', 'YES', '', None, '')\n",
      "('most_frequent_dtc_aggregate', 'text', 'YES', '', None, '')\n",
      "('last_occurred_dtc', 'text', 'YES', '', None, '')\n",
      "('top_3_frequent_dtcs', 'text', 'YES', '', None, '')\n",
      "('top_3_frequent_dtcs_with_aggregate', 'text', 'YES', '', None, '')\n",
      "('major_dtc_aggregate', 'text', 'YES', '', None, '')\n",
      "('major_dtc_aggregate_count', 'bigint', 'YES', '', None, '')\n",
      "('aggregate_distribution', 'text', 'YES', '', None, '')\n"
     ]
    }
   ],
   "source": [
    "import mysql.connector\n",
    "\n",
    "conn = mysql.connector.connect(\n",
    "    host=\"localhost\",\n",
    "    user=\"root\",\n",
    "    password=\"Gautham@20010\",\n",
    "    database=\"vehicle_db\"\n",
    ")\n",
    "\n",
    "cursor = conn.cursor()\n",
    "cursor.execute(\"DESCRIBE jc_data;\")\n",
    "\n",
    "# Print each column detail\n",
    "for row in cursor.fetchall():\n",
    "    print(row)\n",
    "\n",
    "conn.close()"
   ]
  },
  {
   "cell_type": "code",
   "execution_count": 9,
   "metadata": {},
   "outputs": [
    {
     "name": "stdout",
     "output_type": "stream",
     "text": [
      "Cleaned table created.\n"
     ]
    }
   ],
   "source": [
    "import mysql.connector\n",
    "\n",
    "conn = mysql.connector.connect(\n",
    "    host=\"localhost\",\n",
    "    user=\"root\",\n",
    "    password=\"Gautham@20010\",\n",
    "    database=\"vehicle_db\"\n",
    ")\n",
    "cursor = conn.cursor()\n",
    "\n",
    "# Create cleaned table with only the required columns\n",
    "cursor.execute(\"\"\"\n",
    "    CREATE TABLE jc_table AS\n",
    "    SELECT job_card_number, vehicle_chassis_number, vehiclemode, emission, engine, fuel, enginefuel,\n",
    "           obd, fert_description, customer_number, dealername, plant, failure_date, jobs_description,\n",
    "           customer_voice, action_taken, observation, causal_code, casual_description, item_type,\n",
    "           item_material, item_matrial_desription, region_group, culprit_code, culprit_description,\n",
    "           clean_customer_voice, label, llm_primary_issue, llm_other_issue, llm_key_observation,\n",
    "           llm_root_cause, llm_affected_systems, llm_action_status, llm_action_type, llm_work_done,\n",
    "           llm_severity_level, llm_service_summary, llm_additional_info, llm_repair_details,\n",
    "           total_dtc_occurrences, unique_dtc_codes, num_unique_dtcs, most_frequent_dtc,\n",
    "           most_frequent_dtc_count, most_frequent_dtc_aggregate, last_occurred_dtc,\n",
    "           top_3_frequent_dtcs, top_3_frequent_dtcs_with_aggregate, major_dtc_aggregate,\n",
    "           major_dtc_aggregate_count, aggregate_distribution\n",
    "    FROM jc_data\n",
    "\"\"\")\n",
    "\n",
    "conn.commit()\n",
    "print(\"Cleaned table created.\")\n",
    "\n",
    "# Drop and rename if needed\n",
    "cursor.execute(\"DROP TABLE jc_data\")\n",
    "\n",
    "conn.close()"
   ]
  },
  {
   "cell_type": "code",
   "execution_count": 12,
   "metadata": {},
   "outputs": [
    {
     "name": "stdout",
     "output_type": "stream",
     "text": [
      "(4006351448, 'MC2DALRC0NK004120', 'PRO 8035T', 'BSVI', 'VEDX', 'D', 'VEDXD', 1, 'Pro 8035XM L BS6 PW 12X20ML 19RB VHRT', 11959423, 'COCO-CHHAL', 'C144', datetime.datetime(2024, 4, 1, 0, 0), 'REAR AXLE TUBE THREAD DAMAGE', 'REAR AXLE TUBE THREAD DAMAGE', '4TH AXLE TUBE LEAKAGE REPLACE DONE', '4TH AXLE TUBE LEAKAGE NEED TO REPLACE', '276111', 'REAR AXLE HOUSING.', 'SPARES', 'ID624315', 'REAR RWD AXLE HOUSING', 'EAST', 'ID376135', 'Pro 8035XM L BS6 PW 12X20ML 19RB VHRT', 'rear axle tube thread damage', 'axles', 'rear axle tube leakage', 'rear axle tube thread damage', 'The 4th axle tube was leaking and required replacement.', '4th axle tube leakage', 'rear axle', 1, 'replaced parts', 'The 4th axle tube was replaced to resolve the leakage.', 2, 'Customer reported rear axle tube thread damage and leakage. Observation confirmed 4th axle tube leakage, necessitating its replacement.', None, None, 16522, 'P1021_13, P10C0_13', 2, 'P1021_13', 8261, ' ENGINE ', 'P10C0_13 (2025-04-04 23:57:43)', 'P1021_13(8261), P10C0_13(8261), N/A', 'P1021_13(8261)- ENGINE , P10C0_13(8261)- ENGINE , N/A', ' ENGINE ', 16522, ' ENGINE (16522)')\n",
      "(4006355007, 'MC2DALRC0PD005528', 'PRO 8035T', 'BSVI', 'VEDX', 'D', 'VEDXD', 2, 'Pro 8035XM L BSVI PW 12X20ML 19.5URB', 11856448, 'COCO-RAIGARH', 'C113', datetime.datetime(2024, 4, 2, 0, 0), 'RA TUBE CRACK', 'RA TUBE CRACK', '4TH AXLE TUBE REPLACED', '4TH AXLE TUBE REPLACE', '276111', 'REAR AXLE HOUSING.', 'SPARES', 'MH007011', 'PIN, DOWEL (12X34)', 'EAST', 'ID624315', 'Pro 8035XM L BSVI PW 12X20ML 19.5URB', 'ra tube crack', 'axles', 'rear axle tube crack', None, 'The 4th axle tube was cracked and needed replacement.', '4th axle tube crack', 'rear axle', 1, 'replaced parts', 'The 4th axle tube was replaced due to a crack.', 2, 'Customer reported rear axle tube crack. Observation confirmed the 4th axle tube needed replacement. The 4th axle tube was replaced.', None, None, 35, 'U114A_4A, P1179_0, P242A_64, P1151_0', 4, 'P242A_64', 24, ' INLET AND EXHAUST SYSTEM ', 'P1179_0 (2025-03-25 07:44:57)', 'P242A_64(24), P1179_0(8), U114A_4A(2)', 'P242A_64(24)- INLET AND EXHAUST SYSTEM , P1179_0(8)-UNKNOWN, U114A_4A(2)- ELECTRICAL ', ' INLET AND EXHAUST SYSTEM ', 24, ' INLET AND EXHAUST SYSTEM (24), UNKNOWN(9),  ELECTRICAL (2)')\n",
      "(4006355007, 'MC2DALRC0PD005528', 'PRO 8035T', 'BSVI', 'VEDX', 'D', 'VEDXD', 2, 'Pro 8035XM L BSVI PW 12X20ML 19.5URB', 11856448, 'COCO-RAIGARH', 'C113', datetime.datetime(2024, 4, 2, 0, 0), 'RA TUBE CRACK', 'RA TUBE CRACK', '4TH AXLE TUBE REPLACED', '4TH AXLE TUBE REPLACE', '276111', 'REAR AXLE HOUSING.', 'SPARES', 'IZ300294', 'Black  Seal Gasket maker big', 'EAST', 'ID624315', 'Pro 8035XM L BSVI PW 12X20ML 19.5URB', 'ra tube crack', 'axles', 'rear axle tube crack', None, 'The 4th axle tube was cracked and needed replacement.', '4th axle tube crack', 'rear axle', 1, 'replaced parts', 'The 4th axle tube was replaced due to a crack.', 2, 'Customer reported rear axle tube crack. Observation confirmed the 4th axle tube needed replacement. The 4th axle tube was replaced.', None, None, 35, 'U114A_4A, P1179_0, P242A_64, P1151_0', 4, 'P242A_64', 24, ' INLET AND EXHAUST SYSTEM ', 'P1179_0 (2025-03-25 07:44:57)', 'P242A_64(24), P1179_0(8), U114A_4A(2)', 'P242A_64(24)- INLET AND EXHAUST SYSTEM , P1179_0(8)-UNKNOWN, U114A_4A(2)- ELECTRICAL ', ' INLET AND EXHAUST SYSTEM ', 24, ' INLET AND EXHAUST SYSTEM (24), UNKNOWN(9),  ELECTRICAL (2)')\n",
      "(4006355007, 'MC2DALRC0PD005528', 'PRO 8035T', 'BSVI', 'VEDX', 'D', 'VEDXD', 2, 'Pro 8035XM L BSVI PW 12X20ML 19.5URB', 11856448, 'COCO-RAIGARH', 'C113', datetime.datetime(2024, 4, 2, 0, 0), 'RA TUBE CRACK', 'RA TUBE CRACK', '4TH AXLE TUBE REPLACED', '4TH AXLE TUBE REPLACE', '276111', 'REAR AXLE HOUSING.', 'SPARES', 'ID624315', 'REAR RWD AXLE HOUSING', 'EAST', 'ID624315', 'Pro 8035XM L BSVI PW 12X20ML 19.5URB', 'ra tube crack', 'axles', 'rear axle tube crack', None, 'The 4th axle tube was cracked and needed replacement.', '4th axle tube crack', 'rear axle', 1, 'replaced parts', 'The 4th axle tube was replaced due to a crack.', 2, 'Customer reported rear axle tube crack. Observation confirmed the 4th axle tube needed replacement. The 4th axle tube was replaced.', None, None, 35, 'U114A_4A, P1179_0, P242A_64, P1151_0', 4, 'P242A_64', 24, ' INLET AND EXHAUST SYSTEM ', 'P1179_0 (2025-03-25 07:44:57)', 'P242A_64(24), P1179_0(8), U114A_4A(2)', 'P242A_64(24)- INLET AND EXHAUST SYSTEM , P1179_0(8)-UNKNOWN, U114A_4A(2)- ELECTRICAL ', ' INLET AND EXHAUST SYSTEM ', 24, ' INLET AND EXHAUST SYSTEM (24), UNKNOWN(9),  ELECTRICAL (2)')\n",
      "(4006355007, 'MC2DALRC0PD005528', 'PRO 8035T', 'BSVI', 'VEDX', 'D', 'VEDXD', 2, 'Pro 8035XM L BSVI PW 12X20ML 19.5URB', 11856448, 'COCO-RAIGARH', 'C113', datetime.datetime(2024, 4, 2, 0, 0), 'RA TUBE CRACK', 'RA TUBE CRACK', '4TH AXLE TUBE REPLACED', '4TH AXLE TUBE REPLACE', '276111', 'REAR AXLE HOUSING.', 'LABOR VALUE', '110272014', 'REAR FWD AXLE HOUSINGREPLACEMENT', 'EAST', 'ID624315', 'Pro 8035XM L BSVI PW 12X20ML 19.5URB', 'ra tube crack', 'axles', 'rear axle tube crack', None, 'The 4th axle tube was cracked and needed replacement.', '4th axle tube crack', 'rear axle', 1, 'replaced parts', 'The 4th axle tube was replaced due to a crack.', 2, 'Customer reported rear axle tube crack. Observation confirmed the 4th axle tube needed replacement. The 4th axle tube was replaced.', None, None, 35, 'U114A_4A, P1179_0, P242A_64, P1151_0', 4, 'P242A_64', 24, ' INLET AND EXHAUST SYSTEM ', 'P1179_0 (2025-03-25 07:44:57)', 'P242A_64(24), P1179_0(8), U114A_4A(2)', 'P242A_64(24)- INLET AND EXHAUST SYSTEM , P1179_0(8)-UNKNOWN, U114A_4A(2)- ELECTRICAL ', ' INLET AND EXHAUST SYSTEM ', 24, ' INLET AND EXHAUST SYSTEM (24), UNKNOWN(9),  ELECTRICAL (2)')\n",
      "(4006355188, 'MC2DALRC0NK003990', 'PRO 8035T', 'BSVI', 'VEDX', 'D', 'VEDXD', 1, 'Pro 8035XM L BS6 PW 12X20ML 26BB VHRT', 12059090, 'COCO - RAIGARH', 'C143', datetime.datetime(2024, 4, 2, 0, 0), 'LEAF SPRING BROKEN', 'Leaf spring broken', 'Replaced leaf spring', 'RH 2nd axle 4no leaf spring broken', 'FSERVICE1', 'Free Service', 'SPARES', 'IC397424', 'Leaf_4', 'EAST-2', 'FSERVICE', 'Pro 8035XM L BS6 PW 12X20ML 26BB VHRT', 'leaf spring broken', 'suspension', 'leaf spring broken', None, 'The RH 2nd axle 4th leaf spring was broken.', 'Broken RH 2nd axle 4th leaf spring', 'rear suspension', 1, 'replaced parts', 'The broken RH 2nd axle 4th leaf spring was replaced.', 2, 'Customer reported a broken leaf spring. The RH 2nd axle 4th leaf spring was found broken and subsequently replaced.', None, None, 6879, 'P204F_93, P20E8_92, P242A_64, P1151_0, P242A_15, P242A_1, P2031_64, P0299_0', 8, 'P242A_64', 3558, ' INLET AND EXHAUST SYSTEM ', 'P242A_64 (2025-04-05 23:53:23)', 'P242A_64(3558), P204F_93(1455), P20E8_92(1455)', 'P242A_64(3558)- INLET AND EXHAUST SYSTEM , P204F_93(1455)- SCR , P20E8_92(1455)- SCR ', ' INLET AND EXHAUST SYSTEM ', 3575, ' INLET AND EXHAUST SYSTEM (3575),  SCR (2910), UNKNOWN(352),  ELECTRICAL (42)')\n",
      "(4006355188, 'MC2DALRC0NK003990', 'PRO 8035T', 'BSVI', 'VEDX', 'D', 'VEDXD', 1, 'Pro 8035XM L BS6 PW 12X20ML 26BB VHRT', 12059090, 'COCO - RAIGARH', 'C143', datetime.datetime(2024, 4, 2, 0, 0), 'LEAF SPRING BROKEN', 'Leaf spring broken', 'Replaced leaf spring', 'RH 2nd axle 4no leaf spring broken', 'FSERVICE1', 'Free Service', 'SPARES', 'IC308526', 'CONICAL WASHER', 'EAST-2', 'FSERVICE', 'Pro 8035XM L BS6 PW 12X20ML 26BB VHRT', 'leaf spring broken', 'suspension', 'leaf spring broken', None, 'The RH 2nd axle 4th leaf spring was broken.', 'Broken RH 2nd axle 4th leaf spring', 'rear suspension', 1, 'replaced parts', 'The broken RH 2nd axle 4th leaf spring was replaced.', 2, 'Customer reported a broken leaf spring. The RH 2nd axle 4th leaf spring was found broken and subsequently replaced.', None, None, 6879, 'P204F_93, P20E8_92, P242A_64, P1151_0, P242A_15, P242A_1, P2031_64, P0299_0', 8, 'P242A_64', 3558, ' INLET AND EXHAUST SYSTEM ', 'P242A_64 (2025-04-05 23:53:23)', 'P242A_64(3558), P204F_93(1455), P20E8_92(1455)', 'P242A_64(3558)- INLET AND EXHAUST SYSTEM , P204F_93(1455)- SCR , P20E8_92(1455)- SCR ', ' INLET AND EXHAUST SYSTEM ', 3575, ' INLET AND EXHAUST SYSTEM (3575),  SCR (2910), UNKNOWN(352),  ELECTRICAL (42)')\n",
      "(4006355666, 'MC2DALRC0MH002241', 'PRO 8035T', 'BSVI', 'VEDX', 'D', 'VEDXD', 1, 'Pro 8035XM L BS6 PW 12X20ML 19RB', 10548114, 'COCO-KORBA', 'C092', datetime.datetime(2024, 4, 2, 0, 0), 'ELECTRICAL MOTOR NOT WORKING.', 'electrical motor not working.', 'electrical motor replace done.', 'electrical motor not working.', 'FSERVICE1', 'Free Service', 'SPARES', 'IA801872', 'ELECTRICAL MOTOR', 'CENTRAL', 'FSERVICE', 'Pro 8035XM L BS6 PW 12X20ML 19RB', 'electrical motor not working', 'vehicle_electricals', 'electrical motor not working', None, 'The electrical motor was not working.', 'Electrical motor malfunction', 'electrical', 1, 'replaced parts', 'The faulty electrical motor was replaced.', 2, 'Customer reported the electrical motor was not working. The electrical motor was found faulty and replaced.', None, None, 2, 'P0546_12', 1, 'P0546_12', 2, ' INLET AND EXHAUST SYSTEM ', 'P0546_12 (2025-03-22 14:08:08)', 'P0546_12(2), N/A, N/A', 'P0546_12(2)- INLET AND EXHAUST SYSTEM , N/A, N/A', ' INLET AND EXHAUST SYSTEM ', 2, ' INLET AND EXHAUST SYSTEM (2)')\n",
      "(4006355913, 'MC2DALRC0NA002794', 'PRO 8035T', 'BSVI', 'VEDX', 'D', 'VEDXD', 1, 'Pro 8035XM L BS6 PW 12X20ML 19RB', 11515613, 'COCO- GARE PALMA', 'C082', datetime.datetime(2024, 4, 2, 0, 0), 'ELECTRICAL MOTOR WORN OUT', 'electrical motor worn out', 'electrical motor replace done', 'electrical motor need to replace', 'FSERVICE1', 'Free Service', 'SPARES', 'IA801872', 'ELECTRICAL MOTOR', 'CENTRAL', 'FSERVICE', 'Pro 8035XM L BS6 PW 12X20ML 19RB', 'electrical motor worn', 'vehicle_electricals', 'electrical motor worn', None, 'The electrical motor was worn and required replacement.', 'Worn electrical motor', 'electrical', 1, 'replaced parts', 'The worn electrical motor was replaced.', 2, 'Customer reported electrical motor worn. Observation indicated the electrical motor needed replacement. The electrical motor was replaced.', None, None, 33, 'P0070_15, P022A_92', 2, 'P0070_15', 28, ' ELECTRICAL ', 'P0070_15 (2025-04-03 18:54:37)', 'P0070_15(28), P022A_92(5), N/A', 'P0070_15(28)- ELECTRICAL , P022A_92(5)- INLET AND EXHAUST SYSTEM , N/A', ' ELECTRICAL ', 28, ' ELECTRICAL (28),  INLET AND EXHAUST SYSTEM (5)')\n",
      "(4006356242, 'MC2DALRC0MK002539', 'PRO 8035T', 'BSVI', 'VEDX', 'D', 'VEDXD', 1, 'Pro 8035XM L BS6 PW 12X20ML 26BB VHRT', 10517728, 'COCO- GARE PALMA', 'C082', datetime.datetime(2024, 4, 2, 0, 0), 'LEAF SPRING BROKEN', 'leaf spring broken', 'leaf spring replace done', 'leaf spring need to replace', 'FSERVICE1', 'Free Service', 'SPARES', 'IC397424', 'Leaf_4', 'CENTRAL', 'FSERVICE', 'Pro 8035XM L BS6 PW 12X20ML 26BB VHRT', 'leaf spring broken', 'suspension', 'leaf spring broken', None, 'The leaf spring was broken and needed replacement.', 'Broken leaf spring', 'rear suspension', 1, 'replaced parts', 'The broken leaf spring was replaced.', 2, 'Customer reported a broken leaf spring. Observation confirmed the leaf spring needed replacement. The leaf spring was replaced.', None, None, 26834, 'P20E8_92, P204F_93, P229E_93, P0480_13, P0470_13, P0128_0, P204A_13, P208A_13, P20A0_13, U029E_0, P208A_92, P100F_93, P10AD_13, P206A_86, P0470_12, P0470_1, U116F_0, P1145_0, P208A_11, P202D_7A, C0082_14, P2047_13, P0657_11, P204A_1, U010E_87, U0141_0', 26, 'P229E_93', 12450, ' ELECTRICAL ', 'P202D_7A (2025-04-05 23:58:03)', 'P229E_93(12450), P0470_13(8579), P204F_93(2643)', 'P229E_93(12450)- ELECTRICAL , P0470_13(8579)- INLET AND EXHAUST SYSTEM , P204F_93(2643)- SCR ', ' ELECTRICAL ', 12812, ' ELECTRICAL (12812),  INLET AND EXHAUST SYSTEM (8589),  SCR (5277),  COOLING SYSTEM (85), UNKNOWN(68), BOUT ASSY IC537808(2),  AIR BRAKES (1)')\n",
      "(4006356255, 'MC2DALRC0NA002706', 'PRO 8035T', 'BSVI', 'VEDX', 'D', 'VEDXD', 1, 'Pro 8035XM L BS6 PW 12X20ML 26BB', 11515613, 'COCO- GARE PALMA', 'C082', datetime.datetime(2024, 4, 2, 0, 0), 'LEAF SPRING BROKEN', 'leaf spring broken', 'leaf spring replace done', 'leaf spring need to replace', 'FSERVICE1', 'Free Service', 'SPARES', 'IA803291', 'WHEEL STUD M22X1.5', 'CENTRAL', 'FSERVICE', 'Pro 8035XM L BS6 PW 12X20ML 26BB', 'leaf spring broken', 'suspension', 'leaf spring broken', None, 'The leaf spring was broken and needed replacement.', 'Broken leaf spring', 'rear suspension, wheels and tyres', 1, 'replaced parts', 'The broken leaf spring was replaced.', 2, 'Customer reported a broken leaf spring. The leaf spring was found broken and replaced.', None, None, 1, 'U010E_87', 1, 'U010E_87', 1, 'BOUT ASSY IC537808', 'U010E_87 (2025-03-26 13:25:36)', 'U010E_87(1), N/A, N/A', 'U010E_87(1)-BOUT ASSY IC537808, N/A, N/A', 'BOUT ASSY IC537808', 1, 'BOUT ASSY IC537808(1)')\n",
      "(4006356255, 'MC2DALRC0NA002706', 'PRO 8035T', 'BSVI', 'VEDX', 'D', 'VEDXD', 1, 'Pro 8035XM L BS6 PW 12X20ML 26BB', 11515613, 'COCO- GARE PALMA', 'C082', datetime.datetime(2024, 4, 2, 0, 0), 'LEAF SPRING BROKEN', 'leaf spring broken', 'leaf spring replace done', 'leaf spring need to replace', 'FSERVICE1', 'Free Service', 'SPARES', 'IA803301', 'WHEEL NUT -22*1.50*30 10 PHOS', 'CENTRAL', 'FSERVICE', 'Pro 8035XM L BS6 PW 12X20ML 26BB', 'leaf spring broken', 'suspension', 'leaf spring broken', None, 'The leaf spring was broken and needed replacement.', 'Broken leaf spring', 'rear suspension, wheels and tyres', 1, 'replaced parts', 'The broken leaf spring was replaced.', 2, 'Customer reported a broken leaf spring. The leaf spring was found broken and replaced.', None, None, 1, 'U010E_87', 1, 'U010E_87', 1, 'BOUT ASSY IC537808', 'U010E_87 (2025-03-26 13:25:36)', 'U010E_87(1), N/A, N/A', 'U010E_87(1)-BOUT ASSY IC537808, N/A, N/A', 'BOUT ASSY IC537808', 1, 'BOUT ASSY IC537808(1)')\n",
      "(4006356255, 'MC2DALRC0NA002706', 'PRO 8035T', 'BSVI', 'VEDX', 'D', 'VEDXD', 1, 'Pro 8035XM L BS6 PW 12X20ML 26BB', 11515613, 'COCO- GARE PALMA', 'C082', datetime.datetime(2024, 4, 2, 0, 0), 'LEAF SPRING BROKEN', 'leaf spring broken', 'leaf spring replace done', 'leaf spring need to replace', 'FSERVICE1', 'Free Service', 'SPARES', 'IC397424', 'Leaf_4', 'CENTRAL', 'FSERVICE', 'Pro 8035XM L BS6 PW 12X20ML 26BB', 'leaf spring broken', 'suspension', 'leaf spring broken', None, 'The leaf spring was broken and needed replacement.', 'Broken leaf spring', 'rear suspension, wheels and tyres', 1, 'replaced parts', 'The broken leaf spring was replaced.', 2, 'Customer reported a broken leaf spring. The leaf spring was found broken and replaced.', None, None, 1, 'U010E_87', 1, 'U010E_87', 1, 'BOUT ASSY IC537808', 'U010E_87 (2025-03-26 13:25:36)', 'U010E_87(1), N/A, N/A', 'U010E_87(1)-BOUT ASSY IC537808, N/A, N/A', 'BOUT ASSY IC537808', 1, 'BOUT ASSY IC537808(1)')\n"
     ]
    }
   ],
   "source": [
    "import mysql.connector\n",
    "\n",
    "# Connect to MySQL\n",
    "conn = mysql.connector.connect(\n",
    "    host=\"localhost\",\n",
    "    user=\"root\",\n",
    "    password=\"Gautham@20010\",\n",
    "    database=\"vehicle_db\"\n",
    ")\n",
    "\n",
    "cursor = conn.cursor()\n",
    "\n",
    "# Execute query\n",
    "cursor.execute(\"SELECT * FROM jc_table;\")\n",
    "\n",
    "# Fetch all rows at once\n",
    "rows = cursor.fetchall()\n",
    "\n",
    "# Print each row\n",
    "for row in rows:\n",
    "    print(row)\n",
    "\n",
    "conn.close()"
   ]
  },
  {
   "cell_type": "code",
   "execution_count": null,
   "metadata": {},
   "outputs": [],
   "source": []
  }
 ],
 "metadata": {
  "kernelspec": {
   "display_name": "vecv_cls",
   "language": "python",
   "name": "python3"
  },
  "language_info": {
   "codemirror_mode": {
    "name": "ipython",
    "version": 3
   },
   "file_extension": ".py",
   "mimetype": "text/x-python",
   "name": "python",
   "nbconvert_exporter": "python",
   "pygments_lexer": "ipython3",
   "version": "3.10.16"
  }
 },
 "nbformat": 4,
 "nbformat_minor": 2
}
