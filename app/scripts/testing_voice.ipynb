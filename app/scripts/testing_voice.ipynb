{
 "cells": [
  {
   "cell_type": "code",
   "execution_count": 7,
   "id": "be61cf52",
   "metadata": {},
   "outputs": [
    {
     "name": "stdout",
     "output_type": "stream",
     "text": [
      "\"Transcription(text=' Hello, hello this is Gautam, hello', task='transcribe', language='English', duration=3.56, segments=[{'id': 0, 'seek': 0, 'start': 0, 'end': 2.72, 'text': ' Hello, hello this is Gautam, hello', 'tokens': [50365, 2425, 11, 7751, 341, 307, 460, 1375, 335, 11, 7751, 50501], 'temperature': 0, 'avg_logprob': -0.5174855, 'compression_ratio': 1.030303, 'no_speech_prob': 3.3680357e-12}], x_groq={'id': 'req_01jzd8mnmpevc9dacyq45dxrx7'})\"\n"
     ]
    }
   ],
   "source": [
    "import os\n",
    "import json\n",
    "from groq import Groq\n",
    "\n",
    "os.environ['GROQ_API_KEY'] = \"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\"\n",
    "\n",
    "# Initialize the Groq client\n",
    "client = Groq()\n",
    "\n",
    "# Specify the path to the audio file\n",
    "filename = \"/Users/gauthambalraj/Dev/VECV/Pixel/app/scripts/test.wav\" \n",
    "\n",
    "# Open the audio file\n",
    "with open(filename, \"rb\") as file:\n",
    "    # Create a transcription of the audio file\n",
    "    transcription = client.audio.transcriptions.create(\n",
    "      file=file, # Required audio file\n",
    "      model=\"distil-whisper-large-v3-en\", # Required model to use for transcription\n",
    "      prompt=\"Specify context or spelling\",  # Optional\n",
    "      response_format=\"verbose_json\",  # Optional\n",
    "      language=\"en\",  # Optional\n",
    "      temperature=0.0  # Optional\n",
    "    )\n",
    "    # To print only the transcription text, you'd use print(transcription.text) (here we're printing the entire transcription object to access timestamps)\n",
    "    print(json.dumps(transcription, indent=2, default=str))"
   ]
  },
  {
   "cell_type": "code",
   "execution_count": null,
   "id": "6ae15d52",
   "metadata": {},
   "outputs": [],
   "source": []
  }
 ],
 "metadata": {
  "kernelspec": {
   "display_name": "sm_agent",
   "language": "python",
   "name": "python3"
  },
  "language_info": {
   "codemirror_mode": {
    "name": "ipython",
    "version": 3
   },
   "file_extension": ".py",
   "mimetype": "text/x-python",
   "name": "python",
   "nbconvert_exporter": "python",
   "pygments_lexer": "ipython3",
   "version": "3.10.16"
  }
 },
 "nbformat": 4,
 "nbformat_minor": 5
}
