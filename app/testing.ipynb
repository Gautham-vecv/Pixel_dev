{
 "cells": [
  {
   "cell_type": "code",
   "execution_count": 13,
   "metadata": {},
   "outputs": [],
   "source": [
    "from tools.db_tools import fetch_jc_data"
   ]
  },
  {
   "cell_type": "code",
   "execution_count": 20,
   "metadata": {},
   "outputs": [
    {
     "name": "stdout",
     "output_type": "stream",
     "text": [
      "SELECT issue_area, vehiclemode, COUNT(DISTINCT job_card_number) AS job_card_count FROM job_card_data GROUP BY issue_area, vehiclemode ORDER BY issue_area, job_card_count DESC;\n"
     ]
    }
   ],
   "source": [
    "\n",
    "result = fetch_jc_data(\"how many job cards are there in the database issue wise and for each issue provide the count for model wise\")\n"
   ]
  },
  {
   "cell_type": "code",
   "execution_count": 21,
   "metadata": {},
   "outputs": [
    {
     "name": "stdout",
     "output_type": "stream",
     "text": [
      "[('accessory_belt_drive_system', None, 58), ('accessory_belt_drive_system', 'PRO 3019', 14), ('accessory_belt_drive_system', 'PRO 2095XP Truck', 13), ('accessory_belt_drive_system', 'PRO 8035T', 13), ('accessory_belt_drive_system', 'PRO 2110', 8), ('accessory_belt_drive_system', 'PRO 2049 Truck', 7), ('accessory_belt_drive_system', 'PRO 2059XP', 6), ('accessory_belt_drive_system', 'PRO 3019S', 6), ('accessory_belt_drive_system', 'PRO 3010 cwc', 4), ('accessory_belt_drive_system', 'PRO 6028', 3), ('accessory_belt_drive_system', 'PRO 6048', 2), ('accessory_belt_drive_system', 'PRO 3015XP', 2), ('accessory_belt_drive_system', 'PRO 2080T', 2), ('accessory_belt_drive_system', 'PRO 2114XP CNG', 2), ('accessory_belt_drive_system', 'PRO 6037', 2), ('accessory_belt_drive_system', 'PRO 3010 Bus', 2), ('accessory_belt_drive_system', 'PRO 6016 cwc', 2), ('accessory_belt_drive_system', 'PRO 1095XP Truck', 1), ('accessory_belt_drive_system', 'PRO 8055', 1), ('accessory_belt_drive_system', 'PRO 2112 Bus', 1), ('accessory_belt_drive_system', 'PRO 2112 cwc', 1), ('accessory_belt_drive_system', 'PRO 2114XP', 1), ('accessory_belt_drive_system', 'PRO 3011 Bus', 1), ('accessory_belt_drive_system', 'PRO 3015 Diesel 32FT', 1), ('accessory_belt_drive_system', 'PRO 2095', 1), ('accessory_belt_drive_system', 'PRO 3018', 1), ('accessory_belt_drive_system', '2050 Bus', 1), ('accessory_belt_drive_system', 'PRO 1080XPT Truck', 1), ('accessory_belt_drive_system', 'PRO 5031 Truck', 1), ('accessory_belt_drive_system', 'PRO 2090 cwc', 1), ('accessory_belt_drive_system', 'PRO 6019 Cwc', 1), ('accessory_belt_drive_system', 'PRO 6025', 1), ('accessory_belt_drive_system', 'PRO 2090 Bus', 1), ('accessory_belt_drive_system', 'PRO 6028T', 1), ('accessory_belt_drive_system', 'PRO 6031', 1), ('accessory_belt_drive_system', 'PRO 6035', 1), ('accessory_belt_drive_system', 'PRO 2080', 1), ('accessory_belt_drive_system', 'PRO 2075 cwc', 1), ('accessory_belt_drive_system', 'PRO 2075 Bus', 1), ('accessory_belt_drive_system', 'PRO 2109 CNG', 1), ('accidental', None, 1), ('accidental', 'PRO 2095XP Truck', 1), ('air_intake', None, 25), ('air_intake', 'PRO 8035T', 15), ('air_intake', 'PRO 6048', 6), ('air_intake', 'PRO 6037', 6), ('air_intake', 'PRO 2095XP Truck', 5), ('air_intake', 'PRO 6055-1', 4), ('air_intake', 'PRO 3019M', 2), ('air_intake', 'PRO 6040', 2), ('air_intake', 'PRO 2075 cwc', 2), ('air_intake', 'PRO 6028T', 2), ('air_intake', 'PRO 6028', 2), ('air_intake', 'PRO 3019S', 2), ('air_intake', 'PRO 3019J', 2), ('air_intake', 'PRO 2075 Bus', 1), ('air_intake', 'PRO 3019', 1), ('air_intake', 'PRO 6016 cwc', 1), ('air_intake', 'PRO 6019 Cwc', 1), ('air_intake', 'PRO 6019T', 1), ('air_intake', 'PRO 3018', 1), ('air_intake', 'PRO 3015XP', 1), ('air_intake', 'PRO 6031', 1), ('air_intake', 'PRO 6035T', 1), ('air_intake', 'PRO 3015 Truck', 1), ('air_intake', 'PRO 2114XP', 1), ('air_intake', 'PRO 6042HT', 1), ('air_intake', 'PRO 2110', 1), ('air_intake', 'PRO 6055', 1), ('air_intake', 'PRO 2090 cwc', 1), ('air_intake', 'PRO 8031H', 1), ('air_intake', 'PRO 8031T', 1), ('air_intake', 'PRO 2090 Bus', 1), ('axles', None, 63), ('axles', 'PRO 6048', 55), ('axles', 'PRO 8035T', 15), ('axles', 'PRO 6055-1', 15), ('axles', 'PRO 2110', 10), ('axles', 'PRO 3019', 10), ('axles', 'PRO 6028T', 10), ('axles', 'PRO 2095XP Truck', 8), ('axles', 'PRO 3019S', 7), ('axles', 'PRO 3019J', 6), ('axles', 'PRO 6028', 6), ('axles', 'PRO 3015 Truck', 5), ('axles', 'PRO 6042', 5), ('axles', 'PRO 3019M', 5), ('axles', 'PRO 2059XP', 5), ('axles', 'PRO 3018', 5), ('axles', 'PRO 6035', 4), ('axles', 'PRO 6037', 4), ('axles', 'PRO 2080T', 4), ('axles', 'PRO nan', 4), ('axles', 'PRO 2075', 3), ('axles', 'PRO 8031T', 3), ('axles', 'PRO 6031', 3), ('axles', 'PRO 6019 Cwc', 3), ('axles', 'PRO 2114XP', 2), ('axles', 'PRO 3011 Bus', 2), ('axles', 'PRO 3015XP', 2), ('axles', 'PRO 3010 Bus', 2), ('axles', 'PRO 2080', 2), ('axles', 'PRO 2118', 2), ('axles', 'PRO 2090 cwc', 2), ('axles', 'PRO 6041', 2), ('axles', 'PRO 3012 Truck', 1), ('axles', 'PRO 6025', 1), ('axles', 'PRO 2110XP', 1), ('axles', 'PRO 6016 cwc', 1), ('axles', 'PRO 2095XP CNG', 1), ('axles', 'PRO 2095', 1), ('axles', 'PRO 5031 Truck', 1), ('axles', 'PRO 2114XP CNG', 1), ('axles', 'PRO 6046', 1), ('axles', 'PRO 3009 CWC', 1), ('axles', 'PRO 6055', 1), ('axles', 'PRO 2075 Bus', 1), ('axles', 'PRO 8031H', 1), ('axles', 'PRO 3010 cwc', 1), ('axles', 'PRO 2049 Truck', 1), ('axles', 'PRO 1095XP Truck', 1), ('brake', None, 320), ('brake', 'PRO 2095XP Truck', 72), ('brake', 'PRO 6048', 60), ('brake', 'PRO 2110', 53), ('brake', 'PRO 3019', 32), ('brake', 'PRO 3019J', 31), ('brake', 'PRO 2059XP', 29), ('brake', 'PRO 3019S', 28), ('brake', 'PRO 2114XP', 28), ('brake', 'PRO 6016 cwc', 26), ('brake', 'PRO 3018', 24), ('brake', 'PRO nan', 21), ('brake', 'PRO 6037', 21), ('brake', 'PRO 3019M', 20), ('brake', 'PRO 8035T', 19), ('brake', 'PRO 3015 Truck', 19), ('brake', 'PRO 6028', 18), ('brake', 'PRO 6019 Cwc', 18), ('brake', 'PRO 2049 Truck', 16), ('brake', 'PRO 6055-1', 16), ('brake', 'PRO 6035', 15), ('brake', 'PRO 2080T', 12), ('brake', 'PRO 2075', 11), ('brake', 'PRO 6028T', 11), ('brake', 'PRO 2080', 10), ('brake', 'PRO 2090 cwc', 10), ('brake', 'PRO 6041', 9), ('brake', 'PRO 6042', 9), ('brake', 'PRO 2114XP CNG', 9), ('brake', 'PRO 2059', 8), ('brake', 'PRO 6040', 8), ('brake', 'PRO 2110XP', 8), ('brake', 'PRO 3010 cwc', 7), ('brake', 'PRO 2095XP CNG', 7), ('brake', 'PRO 2090 Bus', 7), ('brake', 'PRO 6031', 6), ('brake', 'PRO 2095', 6), ('brake', 'PRO 2075 cwc', 6), ('brake', 'PRO 2070 bus', 6), ('brake', 'PRO 3010 Bus', 5), ('brake', 'PRO 3015XP', 5), ('brake', 'PRO 2055T', 5), ('brake', 'PRO 2095T', 5), ('brake', 'PRO 6055', 4), ('brake', 'PRO 2065 Bus', 4), ('brake', 'PRO 6035T', 4), ('brake', 'PRO 2075 Bus', 4), ('brake', 'PRO 3009 CWC', 3), ('brake', 'PRO 2055', 3), ('brake', '2050 Bus', 2), ('brake', 'PRO 2112 cwc', 2), ('brake', 'PRO 3011 Bus', 2), ('brake', 'PRO 8055', 2), ('brake', 'PRO 6049', 2), ('brake', 'PRO 6025T', 2), ('brake', 'PRO 2118', 1), ('brake', 'PRO 2070 cwc', 1), ('brake', 'PRO 6019T', 1), ('brake', 'PRO 2075 CNG', 1), ('brake', 'PRO 3018 CNG', 1), ('brake', 'PRO 2110XPT', 1), ('brake', 'PRO 3016 CWC', 1), ('brake', 'PRO 2050 cwc', 1), ('brake', 'PRO 6046', 1), ('brake', 'PRO 2050', 1), ('brake', 'PRO 3016', 1), ('brake', 'PRO 6054', 1), ('brake', 'PRO 2112 Bus', 1), ('brake', 'PRO 2049 CNG', 1), ('brake', 'PRO 8028T', 1), ('brake', 'PRO 8031H', 1), ('brake', 'PRO 1095XP Truck', 1), ('brake', 'PRO 8049 6X2', 1), ('brake', 'PRO 2119', 1), ('brake', 'PRO 3015 Diesel 32FT', 1), ('cabin_and_accessories', None, 69), ('cabin_and_accessories', 'PRO 2110', 18), ('cabin_and_accessories', 'PRO 2095XP Truck', 11), ('cabin_and_accessories', 'PRO 2059XP', 11), ('cabin_and_accessories', 'PRO 3019M', 11), ('cabin_and_accessories', 'PRO 6048', 10), ('cabin_and_accessories', 'PRO 3019S', 9), ('cabin_and_accessories', 'PRO 3018', 9), ('cabin_and_accessories', 'PRO 6037', 7), ('cabin_and_accessories', 'PRO 2114XP', 7), ('cabin_and_accessories', 'PRO 3015 Truck', 6), ('cabin_and_accessories', 'PRO 2095XP CNG', 6), ('cabin_and_accessories', 'PRO 2065 Bus', 4), ('cabin_and_accessories', 'PRO 3019J', 4), ('cabin_and_accessories', 'PRO 2110XP', 4), ('cabin_and_accessories', 'PRO 6031', 3), ('cabin_and_accessories', 'PRO 2114XP CNG', 3), ('cabin_and_accessories', 'PRO nan', 3), ('cabin_and_accessories', 'PRO 8035T', 3), ('cabin_and_accessories', 'PRO 6055-1', 3), ('cabin_and_accessories', 'PRO 6035', 3), ('cabin_and_accessories', 'PRO 2095T', 3), ('cabin_and_accessories', 'PRO 6028', 2), ('cabin_and_accessories', 'PRO 3019', 2), ('cabin_and_accessories', 'PRO 2095', 2), ('cabin_and_accessories', 'PRO 2090 cwc', 2), ('cabin_and_accessories', 'PRO 2080', 2), ('cabin_and_accessories', 'PRO 2049 Truck', 2), ('cabin_and_accessories', 'PRO 6025T', 2), ('cabin_and_accessories', 'PRO 2075', 2), ('cabin_and_accessories', 'PRO 2118', 1), ('cabin_and_accessories', 'PRO 3009 CWC', 1), ('cabin_and_accessories', 'PRO 2075 cwc', 1), ('cabin_and_accessories', 'PRO 2070 bus', 1), ('cabin_and_accessories', 'PRO 2059', 1), ('cabin_and_accessories', 'PRO 6016 cwc', 1), ('cabin_and_accessories', 'PRO 6019T', 1), ('cabin_and_accessories', 'PRO 6025', 1), ('cabin_and_accessories', 'PRO 3016', 1), ('cabin_and_accessories', 'PRO 2055T', 1), ('cabin_and_accessories', 'PRO 2055', 1), ('cabin_and_accessories', 'PRO 2080T', 1), ('cabin_and_accessories', 'PRO 6035T', 1), ('cabin_and_accessories', 'PRO 3015XP', 1), ('cabin_and_accessories', 'PRO 2110XP\\xa0 CNG', 1), ('cabin_and_accessories', 'PRO 2090 Bus', 1), ('cabin_and_accessories', 'PRO 8031H', 1), ('cabin_and_accessories', 'PRO 3011 Bus', 1), ('cabin_and_accessories', 'PRO 3018 CNG', 1), ('Cargo_body', None, 3), ('Cargo_body', 'PRO 3015 Truck', 2), ('Cargo_body', 'PRO 2075 CNG', 1), ('Cargo_body', 'PRO 2095XP Truck', 1), ('Cargo_body', 'PRO 2110', 1), ('Cargo_body', 'PRO 2114XP', 1), ('Cargo_body', 'PRO 3015XP', 1), ('Cargo_body', 'PRO 3018', 1), ('Cargo_body', 'PRO 3019J', 1), ('Cargo_body', 'PRO 3019M', 1), ('Cargo_body', 'PRO 3019S', 1), ('Cargo_body', 'PRO 6028T', 1), ('Cargo_body', 'PRO 6035T', 1), ('Cargo_body', 'PRO 8031H', 1), ('Cargo_body', 'PRO 8031T', 1), ('chassis_frame', 'PRO 8035T', 7), ('chassis_frame', None, 4), ('chassis_frame', 'PRO 2110', 3), ('chassis_frame', 'PRO 6028T', 2), ('chassis_frame', 'PRO 6035T', 2), ('chassis_frame', 'PRO 2095XP Truck', 1), ('chassis_frame', 'PRO 2075 Bus', 1), ('chassis_frame', 'PRO 2114XP', 1), ('chassis_frame', 'PRO 3010 cwc', 1), ('chassis_frame', 'PRO 3015XP', 1), ('chassis_frame', 'PRO 3019', 1), ('chassis_frame', 'PRO 6037', 1), ('chassis_frame', 'PRO 6048', 1), ('chassis_frame', 'PRO 8031H', 1), ('chassis_frame', 'PRO 2075', 1), ('chassis_frame', 'PRO 2095T', 1), ('clutch', None, 176), ('clutch', 'PRO 2110', 42), ('clutch', 'PRO 3019', 28), ('clutch', 'PRO 6028T', 27), ('clutch', 'PRO 8035T', 25), ('clutch', 'PRO 2114XP', 24), ('clutch', 'PRO 3019S', 23), ('clutch', 'PRO 2095XP Truck', 17), ('clutch', 'PRO 2080T', 16), ('clutch', 'PRO 3019J', 14), ('clutch', 'PRO 3015 Truck', 12), ('clutch', 'PRO 3019M', 12), ('clutch', 'PRO 2059XP', 12), ('clutch', 'PRO 2114XP CNG', 12), ('clutch', 'PRO 6048', 10), ('clutch', 'PRO 6028', 10), ('clutch', 'PRO 6037', 10), ('clutch', 'PRO 6055-1', 8), ('clutch', 'PRO 2059', 8), ('clutch', 'PRO 6016 cwc', 7), ('clutch', 'PRO 6035', 7), ('clutch', 'PRO 3018', 7), ('clutch', 'PRO 2049 Truck', 6), ('clutch', 'PRO nan', 6), ('clutch', 'PRO 6040', 6), ('clutch', 'PRO 6019 Cwc', 5), ('clutch', 'PRO 2110XP', 5), ('clutch', 'PRO 3015XP', 5), ('clutch', 'PRO 2090 Bus', 4), ('clutch', 'PRO 2065 Bus', 4), ('clutch', 'PRO 3010 cwc', 3), ('clutch', 'PRO 2080', 3), ('clutch', 'PRO 2075', 3), ('clutch', 'PRO 6019T', 3), ('clutch', 'PRO 2049 CNG', 3), ('clutch', 'PRO 6031', 3), ('clutch', 'PRO 3010 Bus', 2), ('clutch', 'PRO 6041', 2), ('clutch', 'PRO 2110XPT', 2), ('clutch', 'PRO 8031T', 2), ('clutch', 'PRO 2059 CNG', 2), ('clutch', 'PRO 2055T', 2), ('clutch', 'PRO 6025', 1), ('clutch', 'PRO 6035T', 1), ('clutch', 'PRO 3014 Truck', 1), ('clutch', 'PRO 3009 CWC', 1), ('clutch', 'PRO 2112 cwc', 1), ('clutch', 'PRO 6042', 1), ('clutch', 'PRO 2095T', 1), ('clutch', 'PRO 2090 cwc', 1), ('clutch', 'PRO 8028T', 1), ('clutch', 'PRO 2075 CNG', 1), ('clutch', 'PRO 2059XP CNG', 1), ('clutch', 'PRO 8055', 1), ('clutch', 'PRO 1095XP Truck', 1), ('clutch', 'PRO 6025T', 1), ('cooling_system', None, 176), ('cooling_system', 'PRO 2110', 49), ('cooling_system', 'PRO 2095XP Truck', 34), ('cooling_system', 'PRO 3019', 27), ('cooling_system', 'PRO 6055-1', 25), ('cooling_system', 'PRO 6048', 21), ('cooling_system', 'PRO 6037', 18), ('cooling_system', 'PRO 2114XP CNG', 14), ('cooling_system', 'PRO 3019S', 14), ('cooling_system', 'PRO 2059XP', 12), ('cooling_system', 'PRO 6016 cwc', 12), ('cooling_system', 'PRO 3015 Truck', 10), ('cooling_system', 'PRO 3019M', 10), ('cooling_system', 'PRO 6031', 9), ('cooling_system', 'PRO 6035', 9), ('cooling_system', 'PRO 2114XP', 9), ('cooling_system', 'PRO 6019 Cwc', 8), ('cooling_system', 'PRO 3019J', 8), ('cooling_system', 'PRO 8035T', 8), ('cooling_system', 'PRO 6028T', 7), ('cooling_system', 'PRO 2090 cwc', 7), ('cooling_system', 'PRO 2080', 6), ('cooling_system', 'PRO 2080T', 6), ('cooling_system', 'PRO 6040', 6), ('cooling_system', 'PRO 2049 Truck', 6), ('cooling_system', 'PRO 6028', 5), ('cooling_system', 'PRO 2075 cwc', 5), ('cooling_system', 'PRO 2075', 5), ('cooling_system', 'PRO 3015XP', 5), ('cooling_system', 'PRO 3018', 4), ('cooling_system', 'PRO 6054', 3), ('cooling_system', 'PRO 2075 Bus', 3), ('cooling_system', 'PRO nan', 3), ('cooling_system', 'PRO 6055', 3), ('cooling_system', 'PRO 3010 Bus', 3), ('cooling_system', 'PRO 2059', 3), ('cooling_system', 'PRO 2110XP', 3), ('cooling_system', 'PRO 6042', 3), ('cooling_system', 'PRO 6041', 3), ('cooling_system', 'PRO 6025', 3), ('cooling_system', 'PRO 2095', 3), ('cooling_system', 'PRO 2065 Bus', 3), ('cooling_system', 'PRO 2090 Bus', 3), ('cooling_system', 'PRO 3016', 2), ('cooling_system', 'PRO 2119', 2), ('cooling_system', 'PRO 6049', 2), ('cooling_system', 'PRO 2095XP CNG', 2), ('cooling_system', 'PRO 3012 Truck', 1), ('cooling_system', 'PRO 6035T', 1), ('cooling_system', 'PRO 6028 S CWC 32FT', 1), ('cooling_system', 'PRO 2059XP CNG', 1), ('cooling_system', 'PRO 6019T', 1), ('cooling_system', 'PRO 2095T', 1), ('cooling_system', 'PRO 6046', 1), ('cooling_system', 'PRO 2110XP\\xa0 CNG', 1), ('cooling_system', 'PRO 2112 cwc', 1), ('cooling_system', 'PRO 2055T', 1), ('cooling_system', 'PRO 3010 cwc', 1), ('cooling_system', 'PRO 1095XP Truck', 1), ('cooling_system', 'PRO 2055', 1), ('cooling_system', 'PRO 8055', 1), ('cooling_system', 'PRO 3011 Bus', 1), ('cooling_system', 'PRO 2090', 1), ('differential_issues', None, 22), ('differential_issues', 'PRO 6028T', 13), ('differential_issues', 'PRO 6048', 11), ('differential_issues', 'PRO 8035T', 10), ('differential_issues', 'PRO 2114XP', 9), ('differential_issues', 'PRO 2095XP Truck', 7), ('differential_issues', 'PRO 2059XP', 6), ('differential_issues', 'PRO 6035T', 4), ('differential_issues', 'PRO 6055-1', 4), ('differential_issues', 'PRO 3015 Truck', 4), ('differential_issues', 'PRO 2080T', 3), ('differential_issues', 'PRO 6019T', 3), ('differential_issues', 'PRO 6019 Cwc', 3), ('differential_issues', 'PRO 2110', 3), ('differential_issues', 'PRO 6016 cwc', 3), ('differential_issues', 'PRO 2114XP CNG', 3), ('differential_issues', 'PRO 3019', 3), ('differential_issues', 'PRO 3018', 3), ('differential_issues', 'PRO 3015XP', 2), ('differential_issues', 'PRO 6025T', 2), ('differential_issues', 'PRO nan', 2), ('differential_issues', 'PRO 2055T', 2), ('differential_issues', 'PRO 3019S', 2), ('differential_issues', 'PRO 6055', 2), ('differential_issues', 'PRO 2090 cwc', 2), ('differential_issues', 'PRO 3010 Bus', 1), ('differential_issues', 'PRO 2095', 1), ('differential_issues', 'PRO 2095XP CNG', 1), ('differential_issues', 'PRO 6031', 1), ('differential_issues', 'PRO 2090 Bus', 1), ('differential_issues', 'PRO 2075 cwc', 1), ('differential_issues', 'PRO 6048T', 1), ('differential_issues', 'PRO 2110XP', 1), ('differential_issues', 'PRO 3019M', 1), ('differential_issues', 'PRO 2049 Truck', 1), ('differential_issues', 'PRO 3019J', 1), ('eats', 'PRO 3019S', 48), ('eats', 'PRO 2110', 43), ('eats', 'PRO 2114XP', 37), ('eats', 'PRO 2095XP Truck', 26), ('eats', None, 23), ('eats', 'PRO 3019', 22), ('eats', 'PRO 6048', 18), ('eats', 'PRO 2059XP', 15), ('eats', 'PRO 3019J', 15), ('eats', 'PRO 3015 Truck', 14), ('eats', 'PRO 3019M', 13), ('eats', 'PRO 3018', 12), ('eats', 'PRO 2110XP', 10), ('eats', 'PRO nan', 10), ('eats', 'PRO 6055-1', 9), ('eats', 'PRO 3015XP', 9), ('eats', 'PRO 6016 cwc', 8), ('eats', 'PRO 6028', 7), ('eats', 'PRO 6037', 6), ('eats', 'PRO 6028T', 5), ('eats', 'PRO 6040', 5), ('eats', 'PRO 8035T', 5), ('eats', 'PRO 2049 Truck', 5), ('eats', 'PRO 2075', 4), ('eats', 'PRO 2080T', 4), ('eats', 'PRO 2090 Bus', 4), ('eats', 'PRO 2090 cwc', 4), ('eats', 'PRO 6019T', 4), ('eats', 'PRO 2095T', 4), ('eats', 'PRO 6019 Cwc', 4), ('eats', 'PRO 6035', 3), ('eats', 'PRO 6042', 3), ('eats', 'PRO 2118', 3), ('eats', 'PRO 2065 Bus', 3), ('eats', 'PRO 2075 cwc', 3), ('eats', 'PRO 2075 Bus', 2), ('eats', 'PRO 6055', 2), ('eats', 'PRO 2059', 2), ('eats', 'PRO 2114XP CNG', 2), ('eats', 'PRO 2095', 2), ('eats', 'PRO 2080', 2), ('eats', 'PRO 3014 Truck', 1), ('eats', 'PRO 6031', 1), ('eats', 'PRO 2070 bus', 1), ('eats', 'PRO 6035T', 1), ('eats', 'PRO 6025T', 1), ('eats', 'PRO 2119', 1), ('eats', 'PRO 6046', 1), ('eats', 'PRO 3010 Bus', 1), ('eats', 'PRO 3011 Bus', 1), ('eats', 'PRO 2055T', 1), ('eats', 'PRO 8028T', 1), ('eats', 'PRO 2055', 1), ('eats', 'PRO 8049 6X4', 1), ('eats', 'PRO 8055', 1), ('eats', '2050 Bus', 1), ('engine_issues', None, 473), ('engine_issues', 'PRO 2110', 90), ('engine_issues', 'PRO 2095XP Truck', 88), ('engine_issues', 'PRO 3019', 66), ('engine_issues', 'PRO 3019S', 62), ('engine_issues', 'PRO 2059XP', 51), ('engine_issues', 'PRO 2114XP CNG', 47), ('engine_issues', 'PRO 2080T', 36), ('engine_issues', 'PRO 6037', 35), ('engine_issues', 'PRO 2114XP', 33), ('engine_issues', 'PRO 3019M', 30), ('engine_issues', 'PRO 3019J', 28), ('engine_issues', 'PRO 6055-1', 28), ('engine_issues', 'PRO 6016 cwc', 24), ('engine_issues', 'PRO 6048', 24), ('engine_issues', 'PRO 6028', 23), ('engine_issues', 'PRO 2080', 23), ('engine_issues', 'PRO 3015 Truck', 23), ('engine_issues', 'PRO nan', 22), ('engine_issues', 'PRO 8035T', 21), ('engine_issues', 'PRO 2049 Truck', 21), ('engine_issues', 'PRO 6028T', 19), ('engine_issues', 'PRO 3018', 19), ('engine_issues', 'PRO 3015XP', 18), ('engine_issues', 'PRO 2095XP CNG', 18), ('engine_issues', 'PRO 3010 cwc', 17), ('engine_issues', 'PRO 2090 cwc', 17), ('engine_issues', 'PRO 2075', 16), ('engine_issues', 'PRO 6035', 16), ('engine_issues', 'PRO 6019 Cwc', 16), ('engine_issues', 'PRO 2075 cwc', 13), ('engine_issues', 'PRO 2090 Bus', 13), ('engine_issues', 'PRO 6040', 10), ('engine_issues', 'PRO 6031', 10), ('engine_issues', 'PRO 2059', 10), ('engine_issues', 'PRO 2095', 10), ('engine_issues', 'PRO 2055', 9), ('engine_issues', 'PRO 2059XP CNG', 9), ('engine_issues', 'PRO 6042', 9), ('engine_issues', 'PRO 3010 Bus', 9), ('engine_issues', 'PRO 2075 Bus', 8), ('engine_issues', 'PRO 2110XP', 7), ('engine_issues', 'PRO 2110XP\\xa0 CNG', 6), ('engine_issues', 'PRO 6041', 6), ('engine_issues', 'PRO 2065 Bus', 6), ('engine_issues', 'PRO 2118', 5), ('engine_issues', 'PRO 6055', 5), ('engine_issues', 'PRO 1095XP Truck', 4), ('engine_issues', 'PRO 6019T', 4), ('engine_issues', 'PRO 2075 CNG', 4), ('engine_issues', 'PRO 2049 CNG', 4), ('engine_issues', 'PRO 2095T', 4), ('engine_issues', 'PRO 6025T', 3), ('engine_issues', 'PRO 6035T', 3), ('engine_issues', 'PRO 2119', 2), ('engine_issues', 'PRO 2059 CNG', 2), ('engine_issues', 'PRO 2110XPT', 2), ('engine_issues', 'PRO 6046', 2), ('engine_issues', 'PRO 6054', 2), ('engine_issues', 'PRO 3016 CWC', 2), ('engine_issues', 'PRO 2070 bus', 2), ('engine_issues', 'PRO 3015 Diesel 32FT', 2), ('engine_issues', 'PRO 3011 Bus', 2), ('engine_issues', 'PRO 6025', 2), ('engine_issues', 'PRO 2090', 2), ('engine_issues', 'PRO 3009 CWC', 2), ('engine_issues', 'PRO 6028 S CWC 32FT', 2), ('engine_issues', 'PRO 5016 Truck', 1), ('engine_issues', 'PRO 5031 Truck', 1), ('engine_issues', 'PRO 3018 CNG', 1), ('engine_issues', 'PRO 3015 CNG 32FT', 1), ('engine_issues', 'PRO 3012 Truck', 1), ('engine_issues', 'PRO 3009 Bus', 1), ('engine_issues', 'PRO 2112 cwc', 1), ('engine_issues', 'PRO 2109 CNG', 1), ('engine_issues', 'PRO 2065 cwc', 1), ('engine_issues', 'PRO 2055T', 1), ('engine_issues', 'PRO 2050 cwc', 1), ('engine_issues', 'PRO 2050', 1), ('engine_issues', 'PRO 1059 Truck', 1), ('engine_issues', 'PRO 8031H', 1), ('engine_issues', '2050 Bus', 1), ('engine_issues', '10.90 Bus', 1), ('ev_motor', None, 1), ('ev_motor', 'PRO 6055-1', 1), ('fuel_system', None, 74), ('fuel_system', 'PRO 3019S', 20), ('fuel_system', 'PRO 2110', 13), ('fuel_system', 'PRO 3019', 12), ('fuel_system', 'PRO 2114XP CNG', 10), ('fuel_system', 'PRO 2090 cwc', 8), ('fuel_system', 'PRO 2114XP', 7), ('fuel_system', 'PRO nan', 6), ('fuel_system', 'PRO 2095XP CNG', 6), ('fuel_system', 'PRO 2110XP', 5), ('fuel_system', 'PRO 2090 Bus', 5), ('fuel_system', 'PRO 8035T', 5), ('fuel_system', 'PRO 6055-1', 5), ('fuel_system', 'PRO 2095XP Truck', 5), ('fuel_system', 'PRO 2059XP CNG', 5), ('fuel_system', 'PRO 2059XP', 5), ('fuel_system', 'PRO 2049 Truck', 5), ('fuel_system', 'PRO 6037', 4), ('fuel_system', 'PRO 3015 Truck', 3), ('fuel_system', 'PRO 2080', 3), ('fuel_system', 'PRO 2080T', 3), ('fuel_system', 'PRO 1095XP Truck', 3), ('fuel_system', 'PRO 6048', 3), ('fuel_system', 'PRO 6035', 3), ('fuel_system', 'PRO 6028', 3), ('fuel_system', 'PRO 3019M', 3), ('fuel_system', 'PRO 2075 cwc', 2), ('fuel_system', 'PRO 6016 cwc', 2), ('fuel_system', 'PRO 3010 cwc', 2), ('fuel_system', 'PRO 2095T', 2), ('fuel_system', 'PRO 3018', 2), ('fuel_system', 'PRO 6040', 2), ('fuel_system', 'PRO 2059', 2), ('fuel_system', 'PRO 3019J', 2), ('fuel_system', 'PRO 3010 Bus', 2), ('fuel_system', 'PRO 3014 Truck', 1), ('fuel_system', 'PRO 3009 CWC', 1), ('fuel_system', 'PRO 6019 Cwc', 1), ('fuel_system', 'PRO 2055', 1), ('fuel_system', 'PRO 6028 S CWC 32FT', 1), ('fuel_system', 'PRO 6028T', 1), ('fuel_system', 'PRO 2112 cwc', 1), ('fuel_system', 'PRO 6035T', 1), ('fuel_system', 'PRO 2065 Bus', 1), ('fuel_system', 'PRO 3018 CNG', 1), ('fuel_system', 'PRO 6042', 1), ('fuel_system', 'PRO 2070 bus', 1), ('fuel_system', 'PRO 6055', 1), ('fuel_system', 'PRO 3015XP', 1), ('fuel_system', 'PRO 2095', 1), ('fuel_system', 'PRO 8049 6X4', 1), ('fuel_system', 'PRO 2075 Bus', 1), ('gearbox_and_transmission', None, 292), ('gearbox_and_transmission', 'PRO 8035T', 75), ('gearbox_and_transmission', 'PRO 2110', 51), ('gearbox_and_transmission', 'PRO 6028T', 40), ('gearbox_and_transmission', 'PRO 2114XP', 32), ('gearbox_and_transmission', 'PRO 6048', 30), ('gearbox_and_transmission', 'PRO 2095XP Truck', 27), ('gearbox_and_transmission', 'PRO 3019S', 27), ('gearbox_and_transmission', 'PRO 6037', 24), ('gearbox_and_transmission', 'PRO 6028', 23), ('gearbox_and_transmission', 'PRO 3015 Truck', 22), ('gearbox_and_transmission', 'PRO 3019M', 19), ('gearbox_and_transmission', 'PRO 3019J', 19), ('gearbox_and_transmission', 'PRO 6016 cwc', 16), ('gearbox_and_transmission', 'PRO 3019', 15), ('gearbox_and_transmission', 'PRO 2080T', 14), ('gearbox_and_transmission', 'PRO 6035', 13), ('gearbox_and_transmission', 'PRO 2114XP CNG', 13), ('gearbox_and_transmission', 'PRO 6055-1', 12), ('gearbox_and_transmission', 'PRO nan', 11), ('gearbox_and_transmission', 'PRO 2110XP', 11), ('gearbox_and_transmission', 'PRO 6031', 10), ('gearbox_and_transmission', 'PRO 3018', 10), ('gearbox_and_transmission', 'PRO 3015XP', 9), ('gearbox_and_transmission', 'PRO 6055', 9), ('gearbox_and_transmission', 'PRO 6040', 7), ('gearbox_and_transmission', 'PRO 2090 cwc', 6), ('gearbox_and_transmission', 'PRO 6035T', 6), ('gearbox_and_transmission', 'PRO 2059XP', 6), ('gearbox_and_transmission', 'PRO 6042', 5), ('gearbox_and_transmission', 'PRO 3010 Bus', 5), ('gearbox_and_transmission', 'PRO 2080', 5), ('gearbox_and_transmission', 'PRO 2095XP CNG', 4), ('gearbox_and_transmission', 'PRO 3010 cwc', 4), ('gearbox_and_transmission', 'PRO 2112 cwc', 4), ('gearbox_and_transmission', 'PRO 2055T', 3), ('gearbox_and_transmission', 'PRO 2075 cwc', 3), ('gearbox_and_transmission', 'PRO 2075', 3), ('gearbox_and_transmission', 'PRO 6054', 3), ('gearbox_and_transmission', 'PRO 6019 Cwc', 3), ('gearbox_and_transmission', 'PRO 6019T', 3), ('gearbox_and_transmission', 'PRO 6025', 3), ('gearbox_and_transmission', 'PRO 2049 Truck', 3), ('gearbox_and_transmission', 'PRO 3016 CWC', 3), ('gearbox_and_transmission', 'PRO 2110XPT', 2), ('gearbox_and_transmission', 'PRO 3016', 2), ('gearbox_and_transmission', 'PRO 2090 Bus', 2), ('gearbox_and_transmission', 'PRO 2075 Bus', 2), ('gearbox_and_transmission', 'PRO 2070 bus', 2), ('gearbox_and_transmission', 'PRO 6025T', 2), ('gearbox_and_transmission', 'PRO 2095T', 2), ('gearbox_and_transmission', 'PRO 2055', 2), ('gearbox_and_transmission', 'PRO 2059', 2), ('gearbox_and_transmission', 'PRO 8028T', 2), ('gearbox_and_transmission', 'PRO 1095XP Truck', 2), ('gearbox_and_transmission', 'PRO 8055', 2), ('gearbox_and_transmission', 'PRO 2059XP CNG', 1), ('gearbox_and_transmission', 'PRO 6041', 1), ('gearbox_and_transmission', 'PRO 6042HT', 1), ('gearbox_and_transmission', 'PRO 6046', 1), ('gearbox_and_transmission', 'PRO 6028 S CWC 32FT', 1), ('gearbox_and_transmission', 'PRO 6019', 1), ('gearbox_and_transmission', 'PRO 3009 CWC', 1), ('gearbox_and_transmission', 'PRO 2118', 1), ('gearbox_and_transmission', 'PRO 2095', 1), ('gearbox_and_transmission', 'PRO 2075 CNG', 1), ('gearbox_and_transmission', 'PRO 8049 6X4', 1), ('gearbox_and_transmission', 'PRO 2070 cwc', 1), ('gearbox_and_transmission', 'PRO 2065 Bus', 1), ('general_service_and_pms', None, 196), ('general_service_and_pms', 'PRO 2114XP CNG', 42), ('general_service_and_pms', 'PRO 2095XP Truck', 34), ('general_service_and_pms', 'PRO 3019S', 31), ('general_service_and_pms', 'PRO 2110', 30), ('general_service_and_pms', 'PRO 3019', 26), ('general_service_and_pms', 'PRO 8035T', 21), ('general_service_and_pms', 'PRO 6028T', 18), ('general_service_and_pms', 'PRO 2095XP CNG', 18), ('general_service_and_pms', 'PRO 2059XP', 14), ('general_service_and_pms', 'PRO 2114XP', 13), ('general_service_and_pms', 'PRO 3015 Truck', 11), ('general_service_and_pms', 'PRO 2110XP', 9), ('general_service_and_pms', 'PRO 3019M', 7), ('general_service_and_pms', 'PRO 6016 cwc', 6), ('general_service_and_pms', 'PRO nan', 6), ('general_service_and_pms', 'PRO 3018', 6), ('general_service_and_pms', 'PRO 3019J', 6), ('general_service_and_pms', 'PRO 2080', 6), ('general_service_and_pms', 'PRO 2080T', 6), ('general_service_and_pms', 'PRO 2090 Bus', 6), ('general_service_and_pms', 'PRO 6035', 6), ('general_service_and_pms', 'PRO 6028', 5), ('general_service_and_pms', 'PRO 6048', 5), ('general_service_and_pms', 'PRO 2049 Truck', 5), ('general_service_and_pms', 'PRO 2065 Bus', 5), ('general_service_and_pms', 'PRO 2095T', 4), ('general_service_and_pms', 'PRO 6037', 4), ('general_service_and_pms', 'PRO 2090 cwc', 4), ('general_service_and_pms', 'PRO 1095XP Truck', 4), ('general_service_and_pms', 'PRO 3015XP', 4), ('general_service_and_pms', 'PRO 6055-1', 3), ('general_service_and_pms', 'PRO 2110XP\\xa0 CNG', 3), ('general_service_and_pms', 'PRO 2095', 3), ('general_service_and_pms', 'PRO 2075', 3), ('general_service_and_pms', 'PRO 6042', 2), ('general_service_and_pms', 'PRO 3016', 2), ('general_service_and_pms', 'PRO 3010 cwc', 2), ('general_service_and_pms', 'PRO 6035T', 2), ('general_service_and_pms', 'PRO 8028T', 2), ('general_service_and_pms', 'PRO 2059XP CNG', 2), ('general_service_and_pms', 'PRO 2049 CNG', 2), ('general_service_and_pms', 'PRO 2055T', 1), ('general_service_and_pms', 'PRO 6025T', 1), ('general_service_and_pms', 'PRO 3016 CWC', 1), ('general_service_and_pms', 'PRO 3011 Bus', 1), ('general_service_and_pms', 'PRO 6031', 1), ('general_service_and_pms', 'PRO 3010 Bus', 1), ('general_service_and_pms', 'PRO 3009 Bus', 1), ('general_service_and_pms', 'PRO 2118', 1), ('general_service_and_pms', 'PRO 2059', 1), ('general_service_and_pms', 'PRO 6046', 1), ('general_service_and_pms', 'PRO 2109 CNG', 1), ('general_service_and_pms', 'PRO 6055', 1), ('general_service_and_pms', 'PRO 2050', 1), ('general_service_and_pms', 'PRO 2075 cwc', 1), ('general_service_and_pms', 'PRO 8031H', 1), ('general_service_and_pms', 'PRO 2075 Bus', 1), ('general_service_and_pms', 'PRO 8055', 1), ('general_service_and_pms', 'PRO 2059 CNG', 1), ('general_service_and_pms', 'PRO 6019 Cwc', 1), ('hvac', 'PRO 8035T', 26), ('hvac', 'PRO 6028T', 10), ('hvac', 'PRO 2090 cwc', 9), ('hvac', 'PRO 6035T', 4), ('hvac', 'PRO 3010 cwc', 4), ('hvac', 'PRO 3015 Truck', 2), ('hvac', 'PRO 2075 Bus', 2), ('hvac', 'PRO 2080', 2), ('hvac', 'PRO nan', 2), ('hvac', None, 2), ('hvac', 'PRO 8031H', 2), ('hvac', 'PRO 2070 cwc', 2), ('hvac', 'PRO 2080T', 1), ('hvac', 'PRO 2075 cwc', 1), ('hvac', 'PRO 3019M', 1), ('hvac', 'PRO 6019 Cwc', 1), ('hvac', 'PRO 6025', 1), ('hvac', 'PRO 2114XP', 1), ('hvac', 'PRO 6035', 1), ('hvac', 'PRO 2049 Truck', 1), ('hvac', 'PRO 6037', 1), ('hvac', 'PRO 6049', 1), ('hvac', 'PRO 2110', 1), ('hvac', 'PRO 2095XP Truck', 1), ('hvac', 'PRO 8055', 1), ('hvac', 'PRO 2095', 1), ('miscellaneous', None, 48), ('miscellaneous', 'PRO 8035T', 26), ('miscellaneous', 'PRO 2114XP', 8), ('miscellaneous', 'PRO 3019S', 6), ('miscellaneous', 'PRO 3019', 5), ('miscellaneous', 'PRO 3015XP', 5), ('miscellaneous', 'PRO 3018', 5), ('miscellaneous', 'PRO 6055-1', 4), ('miscellaneous', 'PRO 6028T', 4), ('miscellaneous', 'PRO 2095XP Truck', 4), ('miscellaneous', 'PRO 2110', 4), ('miscellaneous', 'PRO 3019J', 4), ('miscellaneous', 'PRO 3019M', 3), ('miscellaneous', 'PRO 3015 Truck', 3), ('miscellaneous', 'PRO 2114XP CNG', 2), ('miscellaneous', 'PRO 2049 Truck', 2), ('miscellaneous', 'PRO 2090 Bus', 2), ('miscellaneous', 'PRO 6019 Cwc', 2), ('miscellaneous', 'PRO 6016 cwc', 2), ('miscellaneous', 'PRO 3010 cwc', 1), ('miscellaneous', 'PRO 2055', 1), ('miscellaneous', 'PRO 3010 Bus', 1), ('miscellaneous', 'PRO 2110XP', 1), ('miscellaneous', 'PRO 2095XP CNG', 1), ('miscellaneous', 'PRO 6028', 1), ('miscellaneous', 'PRO 2095', 1), ('miscellaneous', 'PRO 6035T', 1), ('miscellaneous', 'PRO 6040', 1), ('miscellaneous', 'PRO 6048', 1), ('miscellaneous', 'PRO 2080', 1), ('miscellaneous', 'PRO 2075', 1), ('miscellaneous', 'PRO 8055', 1), ('miscellaneous', 'PRO nan', 1), ('miscellaneous', 'PRO 3016 CWC', 1), ('pdi_and_campaign', 'PRO 2110', 46), ('pdi_and_campaign', 'PRO 6048', 40), ('pdi_and_campaign', 'PRO 2059XP', 36), ('pdi_and_campaign', 'PRO 2095XP Truck', 32), ('pdi_and_campaign', None, 26), ('pdi_and_campaign', 'PRO 6055-1', 21), ('pdi_and_campaign', 'PRO 2090 cwc', 17), ('pdi_and_campaign', 'PRO 6028T', 16), ('pdi_and_campaign', 'PRO 2114XP CNG', 13), ('pdi_and_campaign', 'PRO 6028', 13), ('pdi_and_campaign', 'PRO 6042', 11), ('pdi_and_campaign', 'PRO 6019 Cwc', 10), ('pdi_and_campaign', 'PRO 6016 cwc', 10), ('pdi_and_campaign', 'PRO 3019S', 7), ('pdi_and_campaign', 'PRO nan', 6), ('pdi_and_campaign', 'PRO 6035', 5), ('pdi_and_campaign', 'PRO 2090 Bus', 5), ('pdi_and_campaign', 'PRO 2075 cwc', 5), ('pdi_and_campaign', 'PRO 6040', 5), ('pdi_and_campaign', 'PRO 2075 Bus', 5), ('pdi_and_campaign', 'PRO 3019', 5), ('pdi_and_campaign', 'PRO 2075', 4), ('pdi_and_campaign', 'PRO 2070 bus', 4), ('pdi_and_campaign', 'PRO 2114XP', 4), ('pdi_and_campaign', 'PRO 8028T', 4), ('pdi_and_campaign', 'PRO 2095T', 4), ('pdi_and_campaign', 'PRO 2080', 4), ('pdi_and_campaign', 'PRO 3009 Bus', 3), ('pdi_and_campaign', 'PRO 2080T', 3), ('pdi_and_campaign', 'PRO 6055', 2), ('pdi_and_campaign', 'PRO 8035T', 2), ('pdi_and_campaign', 'PRO 2095XP CNG', 2), ('pdi_and_campaign', 'PRO 6019T', 2), ('pdi_and_campaign', 'PRO 6035T', 2), ('pdi_and_campaign', 'PRO 2059XP CNG', 1), ('pdi_and_campaign', 'PRO 6028 S CWC 32FT', 1), ('pdi_and_campaign', 'PRO 6025', 1), ('pdi_and_campaign', 'PRO 3019M', 1), ('pdi_and_campaign', 'PRO 3015 Truck', 1), ('pdi_and_campaign', 'PRO 3010 cwc', 1), ('pdi_and_campaign', 'PRO 3010 Bus', 1), ('pdi_and_campaign', '2050 Bus', 1), ('pdi_and_campaign', 'PRO 2055T', 1), ('pdi_and_campaign', 'PRO 8055', 1), ('pdi_and_campaign', 'PRO 2095', 1), ('pickup_issues', None, 746), ('pickup_issues', 'PRO 2110', 191), ('pickup_issues', 'PRO 3019S', 182), ('pickup_issues', 'PRO 3019', 155), ('pickup_issues', 'PRO 2114XP', 125), ('pickup_issues', 'PRO 2095XP Truck', 104), ('pickup_issues', 'PRO 2059XP', 90), ('pickup_issues', 'PRO 2114XP CNG', 84), ('pickup_issues', 'PRO 3019J', 74), ('pickup_issues', 'PRO 3018', 72), ('pickup_issues', 'PRO 6048', 68), ('pickup_issues', 'PRO 6028T', 67), ('pickup_issues', 'PRO 3019M', 63), ('pickup_issues', 'PRO nan', 62), ('pickup_issues', 'PRO 6055-1', 61), ('pickup_issues', 'PRO 3015 Truck', 59), ('pickup_issues', 'PRO 6028', 59), ('pickup_issues', 'PRO 6016 cwc', 53), ('pickup_issues', 'PRO 6019 Cwc', 50), ('pickup_issues', 'PRO 2095XP CNG', 41), ('pickup_issues', 'PRO 2090 cwc', 39), ('pickup_issues', 'PRO 3010 cwc', 34), ('pickup_issues', 'PRO 8035T', 33), ('pickup_issues', 'PRO 2075 cwc', 32), ('pickup_issues', 'PRO 6040', 32), ('pickup_issues', 'PRO 6037', 30), ('pickup_issues', 'PRO 2049 Truck', 27), ('pickup_issues', 'PRO 6035', 24), ('pickup_issues', 'PRO 6042', 22), ('pickup_issues', 'PRO 2080', 21), ('pickup_issues', 'PRO 2080T', 21), ('pickup_issues', 'PRO 2075 Bus', 21), ('pickup_issues', 'PRO 2110XP', 21), ('pickup_issues', 'PRO 2090 Bus', 20), ('pickup_issues', 'PRO 2059XP CNG', 16), ('pickup_issues', 'PRO 3015XP', 15), ('pickup_issues', 'PRO 6031', 13), ('pickup_issues', 'PRO 2095T', 13), ('pickup_issues', 'PRO 2055', 13), ('pickup_issues', 'PRO 6055', 13), ('pickup_issues', 'PRO 3010 Bus', 13), ('pickup_issues', 'PRO 2075', 12), ('pickup_issues', 'PRO 2049 CNG', 9), ('pickup_issues', 'PRO 3011 Bus', 8), ('pickup_issues', 'PRO 6025T', 8), ('pickup_issues', 'PRO 6028 S CWC 32FT', 8), ('pickup_issues', 'PRO 2110XP\\xa0 CNG', 8), ('pickup_issues', 'PRO 2059', 8), ('pickup_issues', 'PRO 2095', 8), ('pickup_issues', 'PRO 6035T', 8), ('pickup_issues', 'PRO 1095XP Truck', 7), ('pickup_issues', 'PRO 3016', 7), ('pickup_issues', 'PRO 2070 bus', 6), ('pickup_issues', 'PRO 2112 cwc', 6), ('pickup_issues', 'PRO 2075 CNG', 6), ('pickup_issues', '2050 Bus', 5), ('pickup_issues', 'PRO 8028T', 5), ('pickup_issues', 'PRO 2065 Bus', 5), ('pickup_issues', 'PRO 2059 CNG', 4), ('pickup_issues', 'PRO 2118', 4), ('pickup_issues', 'PRO 3016 CWC', 4), ('pickup_issues', 'PRO 3018 CNG', 3), ('pickup_issues', 'PRO 2070 cwc', 3), ('pickup_issues', 'PRO 6041', 3), ('pickup_issues', 'PRO 6025', 3), ('pickup_issues', 'PRO 8049 6X4', 3), ('pickup_issues', 'PRO 8055', 3), ('pickup_issues', 'PRO 2065 cwc', 3), ('pickup_issues', 'PRO 3009 CWC', 2), ('pickup_issues', 'PRO 6049', 2), ('pickup_issues', 'PRO 3012 Truck', 2), ('pickup_issues', 'PRO 2090', 2), ('pickup_issues', 'PRO 2109 CNG', 2), ('pickup_issues', 'PRO 8031T', 2), ('pickup_issues', 'PRO 3014 Truck', 2), ('pickup_issues', 'PRO 2050 cwc', 2), ('pickup_issues', 'PRO 6054', 2), ('pickup_issues', 'PRO 6019T', 2), ('pickup_issues', 'PRO 2050', 1), ('pickup_issues', 'PRO 6046', 1), ('pickup_issues', 'PRO 3015 Diesel 32FT', 1), ('pickup_issues', 'PRO 2110XPT', 1), ('pickup_issues', 'PRO 3014 CWC', 1), ('pickup_issues', 'PRO 2055T', 1), ('pickup_issues', 'Ambulance Built up', 1), ('pickup_issues', 'PRO 6019', 1), ('pickup_issues', 'PRO 2119', 1), ('pickup_issues', 'PRO 3009 Bus', 1), ('poor_mileage', None, 34), ('poor_mileage', 'PRO 2114XP CNG', 10), ('poor_mileage', 'PRO 3019S', 9), ('poor_mileage', 'PRO 6055-1', 8), ('poor_mileage', 'PRO 3019M', 7), ('poor_mileage', 'PRO 2114XP', 6), ('poor_mileage', 'PRO 2110', 6), ('poor_mileage', 'PRO 3019', 5), ('poor_mileage', 'PRO 2095XP Truck', 5), ('poor_mileage', 'PRO 2110XP', 4), ('poor_mileage', 'PRO 2095XP CNG', 4), ('poor_mileage', 'PRO 6016 cwc', 4), ('poor_mileage', 'PRO 3015 Truck', 3), ('poor_mileage', 'PRO nan', 3), ('poor_mileage', 'PRO 6037', 3), ('poor_mileage', 'PRO 2090 cwc', 2), ('poor_mileage', 'PRO 2110XP\\xa0 CNG', 2), ('poor_mileage', 'PRO 6035', 2), ('poor_mileage', 'PRO 6028T', 2), ('poor_mileage', 'PRO 6019 Cwc', 2), ('poor_mileage', 'PRO 2065 Bus', 1), ('poor_mileage', 'PRO 2080', 1), ('poor_mileage', 'PRO 3015XP', 1), ('poor_mileage', 'PRO 3018', 1), ('poor_mileage', 'PRO 2059XP', 1), ('poor_mileage', 'PRO 3019J', 1), ('poor_mileage', 'PRO 2059 CNG', 1), ('poor_mileage', 'PRO 2049 Truck', 1), ('poor_mileage', 'PRO 2075 Bus', 1), ('poor_mileage', 'PRO 3010 Bus', 1), ('poor_mileage', 'PRO 6019T', 1), ('poor_mileage', 'PRO 2118', 1), ('poor_mileage', 'PRO 2059XP CNG', 1), ('poor_mileage', 'PRO 2075 CNG', 1), ('poor_mileage', 'PRO 6040', 1), ('poor_mileage', 'PRO 6048', 1), ('poor_mileage', 'PRO 6055', 1), ('poor_mileage', '2050 Bus', 1), ('poor_mileage', 'PRO 3012 Truck', 1), ('pto_hydralics', 'PRO 8035T', 7), ('pto_hydralics', 'PRO 6028T', 6), ('pto_hydralics', None, 3), ('pto_hydralics', 'PRO 2080T', 2), ('pto_hydralics', 'PRO 2055T', 1), ('pto_hydralics', 'PRO 6055', 1), ('pto_hydralics', 'PRO nan', 1), ('sensors', None, 2), ('sensors', 'PRO 2114XP CNG', 1), ('sensors', 'PRO 3010 cwc', 1), ('sensors', 'PRO 8035T', 1), ('steering', None, 145), ('steering', 'PRO 2110', 45), ('steering', 'PRO 6048', 18), ('steering', 'PRO 6037', 16), ('steering', 'PRO nan', 15), ('steering', 'PRO 3019', 12), ('steering', 'PRO 2114XP', 10), ('steering', 'PRO 2095XP Truck', 10), ('steering', 'PRO 3018', 10), ('steering', 'PRO 2049 Truck', 9), ('steering', 'PRO 2110XP', 7), ('steering', 'PRO 6042', 7), ('steering', 'PRO 3019S', 7), ('steering', 'PRO 2059XP', 6), ('steering', 'PRO 2070 bus', 6), ('steering', 'PRO 2075', 6), ('steering', 'PRO 2075 Bus', 6), ('steering', 'PRO 6016 cwc', 6), ('steering', 'PRO 2080T', 6), ('steering', 'PRO 3015 Truck', 5), ('steering', 'PRO 3019J', 5), ('steering', 'PRO 3019M', 5), ('steering', 'PRO 8035T', 5), ('steering', 'PRO 6028', 4), ('steering', 'PRO 6028T', 4), ('steering', 'PRO 2050', 4), ('steering', 'PRO 3015XP', 4), ('steering', 'PRO 3010 cwc', 4), ('steering', 'PRO 3016 CWC', 3), ('steering', 'PRO 1095XP Truck', 3), ('steering', 'PRO 6055-1', 3), ('steering', 'PRO 2059XP CNG', 2), ('steering', 'PRO 8031T', 2), ('steering', 'PRO 8028T', 2), ('steering', 'PRO 2114XP CNG', 2), ('steering', 'PRO 2095XP CNG', 2), ('steering', 'PRO 2055', 2), ('steering', 'PRO 2059', 2), ('steering', 'PRO 2095', 2), ('steering', 'PRO 2090 cwc', 2), ('steering', 'PRO 2090 Bus', 2), ('steering', 'PRO 6031', 2), ('steering', 'PRO 6019 Cwc', 2), ('steering', 'PRO 6019T', 2), ('steering', 'PRO 3010 Bus', 1), ('steering', 'PRO 3009 CWC', 1), ('steering', 'PRO 2075 cwc', 1), ('steering', 'PRO 6025', 1), ('steering', 'PRO 2080', 1), ('steering', 'PRO 6035', 1), ('steering', '2050 Bus', 1), ('steering', 'PRO 6041', 1), ('steering', 'PRO 2055T', 1), ('steering', 'PRO 2095T', 1), ('steering', 'PRO 6048T', 1), ('steering', 'PRO 6054', 1), ('steering', 'PRO 6055', 1), ('steering', 'PRO 2110XP\\xa0 CNG', 1), ('steering', 'PRO 3012 Truck', 1), ('steering', 'PRO 8031H', 1), ('steering', 'PRO 3011 Bus', 1), ('steering', 'PRO 2049 CNG', 1), ('steering', 'PRO 6025T', 1), ('suspension', 'PRO 8035T', 69), ('suspension', None, 30), ('suspension', 'PRO 6028T', 11), ('suspension', 'PRO 6048', 9), ('suspension', 'PRO 6019 Cwc', 8), ('suspension', 'PRO 2095XP Truck', 6), ('suspension', 'PRO 3019', 5), ('suspension', 'PRO 8031H', 4), ('suspension', 'PRO 2114XP', 4), ('suspension', 'PRO 2090 Bus', 3), ('suspension', 'PRO 2110XP', 3), ('suspension', 'PRO 8031T', 3), ('suspension', 'PRO 6028', 3), ('suspension', 'PRO 2075 Bus', 2), ('suspension', 'PRO nan', 2), ('suspension', 'PRO 2110', 2), ('suspension', 'PRO 2059XP', 2), ('suspension', 'PRO 8028T', 2), ('suspension', 'PRO 3009 CWC', 2), ('suspension', 'PRO 3010 Bus', 2), ('suspension', 'PRO 3010 cwc', 2), ('suspension', 'PRO 6055-1', 2), ('suspension', 'PRO 6035T', 2), ('suspension', 'PRO 6035', 2), ('suspension', 'PRO 6025T', 2), ('suspension', 'PRO 3019S', 2), ('suspension', 'PRO 2095XP CNG', 1), ('suspension', 'PRO 6025', 1), ('suspension', 'PRO 3019M', 1), ('suspension', 'PRO 3019J', 1), ('suspension', 'PRO 2075', 1), ('suspension', 'PRO 2080', 1), ('suspension', 'PRO 3018', 1), ('suspension', 'PRO 6042', 1), ('suspension', 'PRO 2065 Bus', 1), ('suspension', 'PRO 3011 Bus', 1), ('suspension', 'PRO 8025', 1), ('suspension', 'PRO 3009 Bus', 1), ('suspension', 'PRO 2080T', 1), ('suspension', 'PRO 2110XP\\xa0 CNG', 1), ('suspension', 'PRO 2055', 1), ('suspension', 'PRO 2090 cwc', 1), ('turbo_and_intercooler', None, 25), ('turbo_and_intercooler', 'PRO 2110', 7), ('turbo_and_intercooler', 'PRO 6019 Cwc', 6), ('turbo_and_intercooler', 'PRO 6048', 5), ('turbo_and_intercooler', 'PRO 3019', 5), ('turbo_and_intercooler', 'PRO 2055', 4), ('turbo_and_intercooler', 'PRO 2114XP', 4), ('turbo_and_intercooler', 'PRO 2095XP Truck', 4), ('turbo_and_intercooler', 'PRO 3019S', 3), ('turbo_and_intercooler', 'PRO 6055-1', 3), ('turbo_and_intercooler', 'PRO 2049 Truck', 3), ('turbo_and_intercooler', 'PRO 3010 Bus', 2), ('turbo_and_intercooler', 'PRO 2080T', 2), ('turbo_and_intercooler', 'PRO 8035T', 2), ('turbo_and_intercooler', 'PRO 6055', 2), ('turbo_and_intercooler', 'PRO 2065 Bus', 2), ('turbo_and_intercooler', 'PRO 3019M', 2), ('turbo_and_intercooler', 'PRO 2080', 1), ('turbo_and_intercooler', 'PRO 3016', 1), ('turbo_and_intercooler', 'PRO 2059', 1), ('turbo_and_intercooler', 'PRO 2114XP CNG', 1), ('turbo_and_intercooler', 'PRO 2050', 1), ('turbo_and_intercooler', 'PRO 2059XP', 1), ('turbo_and_intercooler', 'PRO 6016 cwc', 1), ('turbo_and_intercooler', 'PRO 6025', 1), ('turbo_and_intercooler', 'PRO 6028', 1), ('turbo_and_intercooler', 'PRO 6031', 1), ('turbo_and_intercooler', 'PRO 1095XP Truck', 1), ('turbo_and_intercooler', 'PRO 2070 bus', 1), ('turbo_and_intercooler', 'PRO 2095', 1), ('turbo_and_intercooler', 'PRO 2090 cwc', 1), ('turbo_and_intercooler', 'PRO nan', 1), ('tyre', None, 64), ('tyre', 'PRO 2110', 32), ('tyre', 'PRO 2095XP Truck', 26), ('tyre', 'PRO 3019S', 18), ('tyre', 'PRO 6048', 15), ('tyre', 'PRO 3018', 13), ('tyre', 'PRO 2114XP', 11), ('tyre', 'PRO nan', 11), ('tyre', 'PRO 6055-1', 9), ('tyre', 'PRO 6037', 9), ('tyre', 'PRO 6028T', 9), ('tyre', 'PRO 3019', 9), ('tyre', 'PRO 3019M', 9), ('tyre', 'PRO 6028', 8), ('tyre', 'PRO 2059XP', 7), ('tyre', 'PRO 6016 cwc', 7), ('tyre', 'PRO 6019 Cwc', 7), ('tyre', 'PRO 3015 Truck', 7), ('tyre', 'PRO 2095XP CNG', 5), ('tyre', 'PRO 3019J', 5), ('tyre', 'PRO 8035T', 5), ('tyre', 'PRO 2090 cwc', 4), ('tyre', 'PRO 2114XP CNG', 3), ('tyre', 'PRO 3010 Bus', 3), ('tyre', 'PRO 2059', 3), ('tyre', 'PRO 3009 CWC', 3), ('tyre', 'PRO 6042', 3), ('tyre', 'PRO 6040', 3), ('tyre', 'PRO 6035T', 3), ('tyre', 'PRO 2075 cwc', 2), ('tyre', 'PRO 3010 cwc', 2), ('tyre', 'PRO 2049 Truck', 2), ('tyre', 'PRO 2055T', 2), ('tyre', 'PRO 3015XP', 2), ('tyre', 'PRO 2095T', 2), ('tyre', 'PRO 2090 Bus', 2), ('tyre', 'PRO 6031', 2), ('tyre', 'PRO 2080', 2), ('tyre', 'PRO 2070 bus', 1), ('tyre', 'PRO 2080T', 1), ('tyre', 'PRO 2075', 1), ('tyre', 'PRO 2095', 1), ('tyre', 'PRO 2110XP', 1), ('tyre', 'PRO 2110XP\\xa0 CNG', 1), ('tyre', 'PRO 6048T', 1), ('tyre', 'PRO 6055', 1), ('tyre', 'PRO 2110XPT', 1), ('tyre', 'PRO 2118', 1), ('tyre', 'PRO 3015 Diesel 32FT', 1), ('tyre', 'PRO 6019T', 1), ('vehicle_electricals', None, 162), ('vehicle_electricals', 'PRO 2110', 27), ('vehicle_electricals', 'PRO 2095XP Truck', 19), ('vehicle_electricals', 'PRO 3019S', 19), ('vehicle_electricals', 'PRO 2114XP', 18), ('vehicle_electricals', 'PRO 3018', 13), ('vehicle_electricals', 'PRO nan', 13), ('vehicle_electricals', 'PRO 6055-1', 13), ('vehicle_electricals', 'PRO 6048', 12), ('vehicle_electricals', 'PRO 8035T', 11), ('vehicle_electricals', 'PRO 3015 Truck', 11), ('vehicle_electricals', 'PRO 3019', 11), ('vehicle_electricals', 'PRO 6037', 11), ('vehicle_electricals', 'PRO 2080', 11), ('vehicle_electricals', 'PRO 3019J', 10), ('vehicle_electricals', 'PRO 2080T', 9), ('vehicle_electricals', 'PRO 2059XP', 9), ('vehicle_electricals', 'PRO 2090 cwc', 8), ('vehicle_electricals', 'PRO 6040', 8), ('vehicle_electricals', 'PRO 6028', 8), ('vehicle_electricals', 'PRO 6019 Cwc', 8), ('vehicle_electricals', 'PRO 6028T', 7), ('vehicle_electricals', 'PRO 2055', 7), ('vehicle_electricals', 'PRO 3019M', 7), ('vehicle_electricals', 'PRO 2075 Bus', 6), ('vehicle_electricals', 'PRO 2075', 6), ('vehicle_electricals', 'PRO 2114XP CNG', 6), ('vehicle_electricals', 'PRO 6016 cwc', 6), ('vehicle_electricals', 'PRO 2090 Bus', 5), ('vehicle_electricals', 'PRO 6055', 5), ('vehicle_electricals', 'PRO 2095XP CNG', 5), ('vehicle_electricals', 'PRO 2110XP', 5), ('vehicle_electricals', 'PRO 3010 cwc', 5), ('vehicle_electricals', 'PRO 2059', 5), ('vehicle_electricals', 'PRO 2065 Bus', 5), ('vehicle_electricals', 'PRO 2075 cwc', 4), ('vehicle_electricals', 'PRO 6042', 4), ('vehicle_electricals', 'PRO 6035', 4), ('vehicle_electricals', 'PRO 3015XP', 4), ('vehicle_electricals', 'PRO 2049 Truck', 3), ('vehicle_electricals', 'PRO 2095T', 3), ('vehicle_electricals', 'PRO 3010 Bus', 3), ('vehicle_electricals', 'PRO 6054', 3), ('vehicle_electricals', 'PRO 2059XP CNG', 3), ('vehicle_electricals', 'PRO 2050 cwc', 2), ('vehicle_electricals', '2050 Bus', 2), ('vehicle_electricals', 'PRO 2095', 2), ('vehicle_electricals', 'PRO 3009 CWC', 2), ('vehicle_electricals', 'PRO 6049', 2), ('vehicle_electricals', 'PRO 2118', 2), ('vehicle_electricals', 'PRO 2050', 2), ('vehicle_electricals', 'PRO 2070 bus', 2), ('vehicle_electricals', 'PRO 6031', 2), ('vehicle_electricals', 'PRO 6035T', 2), ('vehicle_electricals', 'PRO 2070 cwc', 1), ('vehicle_electricals', 'PRO 2110XP\\xa0 CNG', 1), ('vehicle_electricals', 'PRO 6041', 1), ('vehicle_electricals', 'PRO 2109 CNG', 1), ('vehicle_electricals', 'PRO 6028 S CWC 32FT', 1), ('vehicle_electricals', 'PRO 3009 Bus', 1), ('vehicle_electricals', 'PRO 5031 Truck', 1), ('vehicle_electricals', 'PRO 3011 Bus', 1), ('vehicle_electricals', 'PRO 3014 CWC', 1), ('vehicle_electricals', 'PRO 1095XP Truck', 1), ('vehicle_electricals', 'PRO 3016', 1), ('vehicle_electronics', None, 64), ('vehicle_electronics', 'PRO 2095XP Truck', 17), ('vehicle_electronics', 'PRO 3019S', 10), ('vehicle_electronics', 'PRO 2110', 9), ('vehicle_electronics', 'PRO 2059XP', 9), ('vehicle_electronics', 'PRO nan', 7), ('vehicle_electronics', 'PRO 3019', 7), ('vehicle_electronics', 'PRO 6048', 6), ('vehicle_electronics', 'PRO 3015 Truck', 5), ('vehicle_electronics', 'PRO 6028T', 5), ('vehicle_electronics', 'PRO 6055-1', 4), ('vehicle_electronics', 'PRO 6037', 4), ('vehicle_electronics', 'PRO 2075 cwc', 4), ('vehicle_electronics', 'PRO 6019 Cwc', 4), ('vehicle_electronics', 'PRO 2090 Bus', 4), ('vehicle_electronics', 'PRO 2114XP', 4), ('vehicle_electronics', 'PRO 2070 bus', 3), ('vehicle_electronics', 'PRO 6016 cwc', 3), ('vehicle_electronics', 'PRO 3019J', 3), ('vehicle_electronics', 'PRO 3018', 3), ('vehicle_electronics', 'PRO 2059XP CNG', 2), ('vehicle_electronics', 'PRO 2049 Truck', 2), ('vehicle_electronics', 'PRO 3019M', 2), ('vehicle_electronics', 'PRO 2080T', 2), ('vehicle_electronics', 'PRO 2080', 2), ('vehicle_electronics', 'PRO 6028', 2), ('vehicle_electronics', 'PRO 2075 Bus', 2), ('vehicle_electronics', 'PRO 3011 Bus', 1), ('vehicle_electronics', 'PRO 3015 Diesel 32FT', 1), ('vehicle_electronics', 'PRO 2114XP CNG', 1), ('vehicle_electronics', 'PRO 1095XP Truck', 1), ('vehicle_electronics', 'PRO 2090 cwc', 1), ('vehicle_electronics', '10.90 Bus', 1), ('vehicle_electronics', 'PRO 6025T', 1), ('vehicle_electronics', 'PRO 2075 CNG', 1), ('vehicle_electronics', 'PRO 6035', 1), ('vehicle_electronics', 'PRO 6040', 1), ('vehicle_electronics', 'PRO 6042', 1), ('vehicle_electronics', 'PRO 2055T', 1), ('vehicle_electronics', 'PRO 2065 Bus', 1), ('vehicle_electronics', 'PRO 8035T', 1), ('vehicle_electronics', 'PRO 8055', 1), ('vehicle_electronics', 'PRO 2075', 1)]\n"
     ]
    }
   ],
   "source": [
    "print(result)"
   ]
  },
  {
   "cell_type": "code",
   "execution_count": null,
   "metadata": {},
   "outputs": [],
   "source": [
    "[('0111222015', 'T/M ASSY...OVERHAUL', 'LABOR VALUE', 140), ('ID200359', 'ID200359, BEARING PILOT MAIN SHAFT - HCV', 'SPARES', 85), ('0104211110', 'CLUTCH DISC...REPLACEMENT', 'LABOR VALUE', 76), ('0111221026', '9 S T/M ASSYOVERHAUL VECV', 'LABOR VALUE', 48), ('0104211120', 'CLUTCH COVER ASSY...REPLACEMENT', 'LABOR VALUE', 46), ('0111221124', 'T/M Assy. Top Cover….Overhaul', 'LABOR VALUE', 46), ('ME603242', 'ME603242, RING SYNCHRONIZER', 'SPARES', 46), ('ID379580', 'ID379580, OIL SEAL, M/T CASEEXTN., RR -', 'SPARES', 45), ('ID380903', 'CLUTCH DISC DIA 310', 'SPARES', 42), ('ID360785', 'COVER ASSY. CLUTCH', 'SPARES', 39)]\n"
   ]
  },
  {
   "cell_type": "markdown",
   "metadata": {},
   "source": [
    "## `data Prep`"
   ]
  },
  {
   "cell_type": "code",
   "execution_count": 15,
   "metadata": {},
   "outputs": [],
   "source": [
    "import pandas as pd \n",
    "\n",
    "data = pd.read_parquet('/Users/gauthambalraj/Dev/VECV/Pixel/data/jc_data.parquet')"
   ]
  },
  {
   "cell_type": "code",
   "execution_count": 5,
   "metadata": {},
   "outputs": [],
   "source": [
    "pd.set_option('display.max_columns',None)"
   ]
  },
  {
   "cell_type": "code",
   "execution_count": 9,
   "metadata": {},
   "outputs": [],
   "source": [
    "excludables = pd.read_csv(\"/Users/gauthambalraj/Dev/VECV/Track-7/phaseQ/DATA/Excludables.csv\")"
   ]
  },
  {
   "cell_type": "code",
   "execution_count": null,
   "metadata": {},
   "outputs": [],
   "source": [
    "data.columns"
   ]
  },
  {
   "cell_type": "code",
   "execution_count": null,
   "metadata": {},
   "outputs": [],
   "source": [
    "import warnings\n",
    "import pandas as pd\n",
    "\n",
    "def process_parts(df, excludables, debug=True):\n",
    "\n",
    "    # preserve original pandas warning setting\n",
    "    pd_warning_setting = pd.options.mode.chained_assignment\n",
    "    pd.options.mode.chained_assignment = None  # suppress SettingWithCopyWarning\n",
    "    warnings.filterwarnings('ignore', category=FutureWarning)\n",
    "\n",
    "        # Step 1: Merge df with excludables\n",
    "    if debug:\n",
    "        print(\"Step 1: Merging df with excludables\")\n",
    "    merged = df.merge(\n",
    "        right=excludables,\n",
    "        how=\"left\",\n",
    "        left_on=\"jc_item_material\",\n",
    "        right_on=\"Material Code\"\n",
    "    )\n",
    "    merged[\"is_excludable_spare\"].fillna(\"N\", inplace=True)\n",
    "\n",
    "    # Step 2: Apply prefix rules\n",
    "    if debug:\n",
    "        print(\"Step 2: Applying prefix-based excludable logic\")\n",
    "    merged['jc_item_material'].fillna('', inplace=True)\n",
    "    merged.loc[\n",
    "        merged['jc_item_material'].str.startswith(('LP', 'IZ', 'IM')),\n",
    "        'is_excludable_spare'\n",
    "    ] = 'Y'\n",
    "\n",
    "    return merged\n",
    "\n",
    "\n",
    "        \n",
    "data = process_parts(data, excludables, debug=True)\n"
   ]
  },
  {
   "cell_type": "code",
   "execution_count": 19,
   "metadata": {},
   "outputs": [],
   "source": [
    "jc_data = data[data['is_excludable_spare']=='N']"
   ]
  },
  {
   "cell_type": "code",
   "execution_count": null,
   "metadata": {},
   "outputs": [],
   "source": [
    "jc_data['job_card_number'].nunique()"
   ]
  },
  {
   "cell_type": "code",
   "execution_count": 32,
   "metadata": {},
   "outputs": [],
   "source": [
    "jc_data.to_parquet(\"/Users/gauthambalraj/Dev/VECV/Pixel/data/jc_data.parquet\", index=False)"
   ]
  },
  {
   "cell_type": "code",
   "execution_count": null,
   "metadata": {},
   "outputs": [],
   "source": [
    "# How many unique job cards do we have?\n",
    "total_unique = jc_data['job_card_number'].nunique()\n",
    "print(f\"Total unique job cards: {total_unique}\")\n",
    "\n",
    "# Get the first 10 000 unique job_card_numbers\n",
    "first_10k = jc_data['job_card_number'].drop_duplicates().iloc[:10_000]\n",
    "\n",
    "# Subset the DataFrame to only those 10 000 cards\n",
    "subset = jc_data[jc_data['job_card_number'].isin(first_10k)]\n",
    "\n",
    "# Check\n",
    "print(f\"Subset shape: {subset.shape}\")\n",
    "print(f\"Unique cards in subset: {subset['job_card_number'].nunique()}\")"
   ]
  },
  {
   "cell_type": "code",
   "execution_count": null,
   "metadata": {},
   "outputs": [],
   "source": [
    "subset.columns"
   ]
  },
  {
   "cell_type": "code",
   "execution_count": 29,
   "metadata": {},
   "outputs": [],
   "source": [
    "subset.drop(columns=[ 'is_excludable_spare','Material Code', 'Material Description', 'aggregate'],inplace=True)"
   ]
  },
  {
   "cell_type": "code",
   "execution_count": null,
   "metadata": {},
   "outputs": [],
   "source": [
    "subset.head()"
   ]
  },
  {
   "cell_type": "code",
   "execution_count": null,
   "metadata": {},
   "outputs": [],
   "source": [
    "import pandas as pd\n",
    "from sqlalchemy import create_engine, BigInteger, Text, DateTime, Float, String\n",
    "import pandas as pd\n",
    "from sqlalchemy import create_engine\n",
    "from urllib.parse import quote_plus\n",
    "\n",
    "user = \"root\"\n",
    "password = \"Gautham@20010\"\n",
    "host = \"localhost\"\n",
    "port = 3306\n",
    "database = \"vehicle_db\"\n",
    "pwd_enc = quote_plus(password)\n",
    "\n",
    "# Your DataFrame (assuming it’s already prepared)\n",
    "# data = pd.read_csv(\"your_file.csv\")  # or however you have the DataFrame\n",
    "\n",
    "# Create SQLAlchemy engine\n",
    "engine = create_engine(f\"mysql+mysqlconnector://{user}:{pwd_enc}@{host}:{port}/{database}\")\n",
    "\n",
    "# 3) Define MySQL column types for to_sql\n",
    "dtype = {\n",
    "    'job_card_number':            BigInteger(),\n",
    "    'vehicle_chassis_number':     Text(),\n",
    "    'vehiclemode':                String(100),\n",
    "    'emission':                   String(100),\n",
    "    'engine':                     String(100),\n",
    "    'fuel':                       String(100),\n",
    "    'enginefuel':                 String(100),\n",
    "    'obd':                        Float(),\n",
    "    'fert_description':           Text(),\n",
    "    'customer_number':            String(100),\n",
    "    'dealername':                 String(100),\n",
    "    'plant':                      String(100),\n",
    "    'failure_date':               DateTime(),\n",
    "    'jobs_description':           Text(),\n",
    "    'action_taken':               Text(),\n",
    "    'causal_code':                String(100),\n",
    "    'casual_description':         Text(),\n",
    "    'item_type':                  String(100),\n",
    "    'jc_item_material':           String(100),\n",
    "    'jc_item_matrial_desription': Text(),\n",
    "    'region_group':               String(100),\n",
    "    'culprit_code':               String(100),\n",
    "    'culprit_description':        Text(),\n",
    "    'order_type_description':     Text(),\n",
    "    'calendar_day':               DateTime(),\n",
    "    'job_id_description':         Text(),\n",
    "    'customer_voice':             Text(),\n",
    "    'issue_area':                 String(100),\n",
    "    'observation':                Text(),\n",
    "    'parts_group':                String(100),\n",
    "    'parts_aggregate':            Text(),\n",
    "    'year_month_mf':              String(20),\n",
    "}\n",
    "\n",
    "# 4) Write to MySQL, replacing any existing table of the same name\n",
    "subset.to_sql(\n",
    "    'job_card_data',         # target table name\n",
    "    con=engine,\n",
    "    if_exists='replace',     # or 'append'\n",
    "    index=False,\n",
    "    dtype=dtype\n",
    ")"
   ]
  },
  {
   "cell_type": "code",
   "execution_count": null,
   "metadata": {},
   "outputs": [],
   "source": []
  }
 ],
 "metadata": {
  "kernelspec": {
   "display_name": "vecv",
   "language": "python",
   "name": "python3"
  },
  "language_info": {
   "codemirror_mode": {
    "name": "ipython",
    "version": 3
   },
   "file_extension": ".py",
   "mimetype": "text/x-python",
   "name": "python",
   "nbconvert_exporter": "python",
   "pygments_lexer": "ipython3",
   "version": "3.9.21"
  }
 },
 "nbformat": 4,
 "nbformat_minor": 2
}
